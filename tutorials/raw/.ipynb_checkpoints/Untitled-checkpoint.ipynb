{
 "cells": [
  {
   "cell_type": "markdown",
   "id": "2174c02e-f7f5-4990-a9e2-ba071d206289",
   "metadata": {},
   "source": [
    "Sequences are series of characters that can represent RNA, DNA or chains of amino acids. Within BioKotlin, they are represented by the [seq](.seq) package. Below, we demonstrate the basics of creating and manipulating sequences."
   ]
  }
 ],
 "metadata": {
  "kernelspec": {
   "display_name": "Kotlin",
   "language": "kotlin",
   "name": "kotlin"
  },
  "language_info": {
   "codemirror_mode": "text/x-kotlin",
   "file_extension": ".kt",
   "mimetype": "text/x-kotlin",
   "name": "kotlin",
   "nbconvert_exporter": "",
   "pygments_lexer": "kotlin",
   "version": "1.7.20-dev-1299"
  }
 },
 "nbformat": 4,
 "nbformat_minor": 5
}
