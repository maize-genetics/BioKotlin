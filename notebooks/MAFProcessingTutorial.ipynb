{
 "cells": [
  {
   "cell_type": "markdown",
   "id": "80fe8c35-ab88-4396-9f1f-88ccd3ea5c9e",
   "metadata": {},
   "source": [
    "## MAF Processing in BioKotlin\n",
    "\n",
    "MAF files may be processed to determine coverage and identity at specified positions indicated by user input.\n",
    "\n",
    "![Biokotlin_MAF_Processing.png](Biokotlin_MAF_Processing.png)\n"
   ]
  },
  {
   "cell_type": "code",
   "execution_count": null,
   "id": "dfd8ff9a-e12d-4bd6-bafc-f1674b657ed1",
   "metadata": {},
   "outputs": [],
   "source": [
    "// If this does not exist run from cmdline: ./gradlew shadowjar\n",
    "// Use a jar if in develop mode and code is not yet in jcenter\n",
    "\n",
    "// Using the jar file for a demo as this code is not yet in jcenter\n",
    "@file:DependsOn(\"../build/libs/biokotlin-0.03-all.jar\")\n",
    "\n",
    "//@file:Repository(\"https://jcenter.bintray.com/\")\n",
    "//@file:DependsOn(\"org.biokotlin:biokotlin:0.03\")"
   ]
  },
  {
   "cell_type": "code",
   "execution_count": null,
   "id": "7db341af-421b-46a1-8390-ad906a737c10",
   "metadata": {},
   "outputs": [],
   "source": [
    "import biokotlin.genome.*\n",
    "import java.util.*"
   ]
  },
  {
   "cell_type": "code",
   "execution_count": null,
   "id": "76f7f720-a54b-40ef-9918-787eda05d26a",
   "metadata": {},
   "outputs": [],
   "source": [
    "val mafDir = \"/Users/lcj34/notes_files/phg_2018/new_features/anchorWave_refRanges_biokotlin/test_mafFiles/test_multipleMafs\"\n",
    "\n",
    "val contig = \"B73.chr7\"\n",
    "val start = 13\n",
    "val stop = 50\n",
    "\n",
    "val coverageAndIdentity = GetCovIDFromMAFMultiThread().getCoverageAndIdentityFromMAFs(contig, start, stop, mafDir)\n"
   ]
  },
  {
   "cell_type": "code",
   "execution_count": null,
   "id": "abc3fa22-7dcf-4fdb-a085-f390dde6240f",
   "metadata": {},
   "outputs": [],
   "source": [
    "// Print the output - for a small coverage area, this helps show what the values were\n",
    "val lastArrayEntry = stop-start \n",
    "for (idx in 0..lastArrayEntry) {\n",
    "    println(\"${coverageAndIdentity.first[idx]}  ${coverageAndIdentity.second[idx]}\")\n",
    "}"
   ]
  },
  {
   "cell_type": "code",
   "execution_count": null,
   "id": "45637e75-cd9d-470d-b22d-772d3f7ef40e",
   "metadata": {},
   "outputs": [],
   "source": [
    "// create a bed file of these results - provide the mininum coverage and identity needed\n",
    "// The sample file has only 4 different assemblies aligned to B73 - here I'm requiring all\n",
    "// to have coverage and identity at each basepair in the arrays defined above\n",
    "val minCov = 4\n",
    "val minId = 4\n",
    "\n",
    "val outputBedFile = \"/Users/lcj34/notes_files/phg_2018/new_features/anchorWave_refRanges_biokotlin/junit_output/multipleMAF_4and4.bed\"\n",
    "\n",
    "createBedFileFromCoverageIdentity(coverageAndIdentity.first, coverageAndIdentity.second, contig, start, minCov,\n",
    "            minId, outputBedFile)\n"
   ]
  },
  {
   "cell_type": "code",
   "execution_count": null,
   "id": "8d8b767e-88af-4534-84f3-7f47da5a2b3d",
   "metadata": {},
   "outputs": [],
   "source": [
    "// create wiggle files of these results - These files may be loaded to IGV, perhaps along with\n",
    "// a set of genic regions to determine coverage for the genomes represented \n",
    "// along with \n",
    "\n",
    "\n",
    "val outputWiggleDir = \"/Users/lcj34/notes_files/phg_2018/new_features/anchorWave_refRanges_biokotlin/junit_output/\"\n",
    "\n",
    "createWiggleFilesFromCoverageIdentity(coverageAndIdentity.first, coverageAndIdentity.second, contig,outputWiggleDir) \n",
    "            "
   ]
  },
  {
   "cell_type": "markdown",
   "id": "3f9edc9a-c5fc-4712-90a9-4f90336b37db",
   "metadata": {},
   "source": [
    "## Wig to BigWig\n",
    "\n",
    "It is likely your wiggle file will be quite large.  To facilitate loading them to IGV, it is best\n",
    "to transform them to BigWig files (extension = .bw)\n",
    "\n",
    "This can be done on any system that has the wigToBigWig function.\n",
    "\n",
    "You will need to create a files that contains all the chromosome sizes.  This file should be\n",
    "tab-delimited and have 2 columns: the first is the chrom name, the second is the size in bytes\n",
    "\n",
    "\n",
    "Then execute:\n",
    "\n",
    "**wigToBigWig <input.wig> b73NAM_chrom.sizes <output.bw>**\n",
    "\n",
    "\n",
    "\n",
    "\n",
    "\n"
   ]
  },
  {
   "cell_type": "code",
   "execution_count": null,
   "id": "5b2160a9-a724-4fcd-af65-599a861dc843",
   "metadata": {},
   "outputs": [],
   "source": [
    "import igv"
   ]
  },
  {
   "cell_type": "code",
   "execution_count": null,
   "id": "3b31a359-631c-464e-96cc-9e259173de07",
   "metadata": {},
   "outputs": [],
   "source": []
  }
 ],
 "metadata": {
  "kernelspec": {
   "display_name": "Kotlin",
   "language": "kotlin",
   "name": "kotlin"
  },
  "language_info": {
   "codemirror_mode": "kotlin",
   "file_extension": ".kt",
   "mimetype": "text/x-kotlin",
   "name": "kotlin",
   "nbconvert_exporter": "",
   "pygments_lexer": "kotlin",
   "version": "1.6.0-dev-1733"
  }
 },
 "nbformat": 4,
 "nbformat_minor": 5
}
