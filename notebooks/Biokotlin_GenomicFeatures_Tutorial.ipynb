{
 "cells": [
  {
   "cell_type": "markdown",
   "id": "e8f1f7c9-42b1-4b83-a596-55a5138a0404",
   "metadata": {},
   "source": [
    "## Biokotlin GenomicFeatures Testing\n",
    "\n",
    "Biokotlin GenomicFeatures class takes a gff file and stores the feature data it holds into Kotlin DataFrame objects.\n",
    "These objects may be manipulated via Kotlin DataFrame methods, or functions created within the GenomicFeatures class\n",
    "\n",
    "This notebook demonstrates operations to construct and manage biokotlin GenomicFeatures"
   ]
  },
  {
   "cell_type": "code",
   "execution_count": null,
   "id": "acb0ff80-e9f3-4317-be39-fdcd59c1358a",
   "metadata": {},
   "outputs": [],
   "source": [
    "//If this does not exist run from cmdline: ./gradlew shadowjar\n",
    "// This is old code - if the imports don't work, or if you have an unofficial development version of Biokotlin\n",
    "@file:DependsOn(\"../build/libs/biokotlin-0.03-all.jar\")\n",
    "// @file:Repository(\"https://jcenter.bintray.com/\")\n",
    "// @file:DependsOn(\"org.biokotlin:biokotlin:0.03\""
   ]
  },
  {
   "cell_type": "code",
   "execution_count": null,
   "id": "f16fc6f3-8f06-4b8a-bb6a-0209107548fd",
   "metadata": {},
   "outputs": [],
   "source": [
    "// We'll use the genome.GenomicFeatures class\n",
    "import biokotlin.genome.*\n",
    "\n",
    "// define your GFF file\n",
    "val b73GFF = \"/Users/lcj34/notes_files/phg_2018/b73v5_gff/Zm-B73-REFERENCE-NAM-5.0_Zm00001e.1.gff3\"\n",
    "\n",
    "// create an instance of the GenomicFeatures class with the gff3 file as input\n",
    "val myGF = GenomicFeatures(b73GFF)\n",
    "\n",
    "// list the available functions\n",
    "myGF.help()\n",
    "\n",
    "\n"
   ]
  },
  {
   "cell_type": "code",
   "execution_count": null,
   "id": "23931ff2-2935-4165-86a1-0426a013d825",
   "metadata": {},
   "outputs": [],
   "source": [
    "// Get and print the CDS dataframe column names\n",
    "    \n",
    "val cdsColNames = myGF.columnNames(\"CDS\")\n",
    "println(\"CDS column names:\\n${cdsColNames}\")\n"
   ]
  },
  {
   "cell_type": "code",
   "execution_count": null,
   "id": "cfcb1e62-3189-4619-9368-952ec6e31835",
   "metadata": {},
   "outputs": [],
   "source": [
    "// subset the CDS DataFrame\n",
    "myGF.cds().select{seqid and name and phase}\n"
   ]
  },
  {
   "cell_type": "code",
   "execution_count": null,
   "id": "76c11d18-a7f3-4fd0-bb08-19e524585eef",
   "metadata": {},
   "outputs": [],
   "source": [
    "// Print all the GFF exons\n",
    "myGF.exons().print()"
   ]
  },
  {
   "cell_type": "code",
   "execution_count": null,
   "id": "e1a0992c-8f65-4a4e-be50-c241ff735110",
   "metadata": {},
   "outputs": [],
   "source": [
    "// Filtering using GenomicFeatures:getFeaturesByRange\n",
    "// This method allows the user to grab data for multiple features that fall within\n",
    "// the specified chromosome/position boundaries\n",
    "\n",
    "var featuresByRange = myGF.featuresByRange(\"chr1\",43000..46204,\"three_prime_UTR,five_prime_UTR\")\n",
    "featuresByRange.print()\n",
    "                         \n",
    "                         "
   ]
  },
  {
   "cell_type": "code",
   "execution_count": null,
   "id": "32578502-367d-4c18-b2a2-831988ce9ba5",
   "metadata": {},
   "outputs": [],
   "source": [
    "val transcriptEntries = myGF.featuresWithTranscript(\"Zm00001e000002_T001\")\n",
    "transcriptEntries.print()\n"
   ]
  },
  {
   "cell_type": "code",
   "execution_count": null,
   "id": "4cfb0efe-33b7-4b9c-93dc-273c43d1181b",
   "metadata": {},
   "outputs": [],
   "source": [
    "// Filter the CDS entries for only chr1, within the range of 34617..40204\n",
    "var cdsFilteredRange = myGF.cds().filter{seqid == \"chr1\" && start <= 40204 && end >= 34617}\n",
    "cdsFilteredRange.print()\n",
    "\n"
   ]
  },
  {
   "cell_type": "code",
   "execution_count": null,
   "id": "52cc0e76-91f2-411b-9725-198df5289011",
   "metadata": {},
   "outputs": [],
   "source": [
    "import biokotlin.genome.*\n",
    "// Example of a genomic feature that includes the fasta.\n",
    "// Fasta association allows for adding sequence information to the queries\n",
    "\n",
    "       val b73GFF_full = \"/Users/lcj34/notes_files/phg_2018/b73v5_gff/Zm-B73-REFERENCE-NAM-5.0_Zm00001e.1.gff3\"\n",
    "        val b73Fasta = \"/Users/lcj34/notes_files/phg_2018/genomes/Zm-B73-REFERENCE-NAM-5.0.fa\"\n",
    "        val time = System.nanoTime()\n",
    "        // Create an instance of the class so we have access to the lists that are\n",
    "        // created on the read.\n",
    "        val myGF = GenomicFeatures(b73GFF_full,b73Fasta)\n",
    "\n",
    "        val readingTime = (System.nanoTime() - time)/1e9\n",
    "        println(\"Reading/parsing GFF and ref fasta files took ${readingTime} seconds\")\n",
    "\n",
    "        println(\"myGF chromDF size: ${myGF.chromosomes().size()}\")\n",
    "        val nucSeqList = myGF.refNucSeqFasta\n",
    "        val numContigs = nucSeqList!!.keys.size\n",
    "\n",
    "        val chr5GeneSRangeSet = mutableSetOf<SRange>()\n",
    "\n",
    "        // Things to note here:  Both SRanges and the GFF are 1-based physical positions\n",
    "        //  that are inclusive/inclusive. So moving between them will remain consistent.\n",
    "        // If you pull sequence based on the range, it will be correctly adjusted for that\n",
    "        // (because sequence is stored as 0-based)\n",
    "        myGF.genes().filter{seqid == \"chr5\"}.select{start and end}.forEachRow {\n",
    "            val record = nucSeqList!![\"chr5\"]!!.range(start..end)\n",
    "            chr5GeneSRangeSet.add(record)\n",
    "        }\n",
    "        \n",
    "        // You now have a rangeSet - you can pull sequence from the NucSeqRecords in the\n",
    "        // chr5GeneSRangeSet.\n",
    "        // You can also perform any operations on this SRange set now - flanking, shift, sequence,\n",
    "        // complement, intersections, overlaps, or get a dataFrame from the SRange set.\n",
    "\n",
    "   \n",
    "        val rangeDF = chr5GeneSRangeSet.toDataFrame()\n",
    "\n",
    "        rangeDF.print()\n",
    "\n",
    "        // Get sequence for a specific chromosome/range:\n",
    "        val chr5seq = myGF.sequenceForChrRange(\"chr5\",1..50)\n",
    "        println(\"Sequence for chr5, 1..50\")\n",
    "        println(chr5seq)\n",
    "\n",
    "\n",
    "        println()\n",
    "        val fakeChrSeq = myGF.sequenceForChrRange(\"fakeChr\", 1..60)\n",
    "  \n"
   ]
  },
  {
   "cell_type": "code",
   "execution_count": null,
   "id": "718c8bf0-2ca3-4c28-a9ac-41a5c871e222",
   "metadata": {},
   "outputs": [],
   "source": [
    "\n"
   ]
  }
 ],
 "metadata": {
  "kernelspec": {
   "display_name": "Kotlin",
   "language": "kotlin",
   "name": "kotlin"
  },
  "language_info": {
   "codemirror_mode": "text/x-kotlin",
   "file_extension": ".kt",
   "mimetype": "text/x-kotlin",
   "name": "kotlin",
   "nbconvert_exporter": "",
   "pygments_lexer": "kotlin",
   "version": "1.7.0-dev-3303"
  }
 },
 "nbformat": 4,
 "nbformat_minor": 5
}
