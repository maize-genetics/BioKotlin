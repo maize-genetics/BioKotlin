{
 "cells": [
  {
   "cell_type": "markdown",
   "id": "5f6cadd8-fba3-451f-9cca-e53be1fe706e",
   "metadata": {
    "tags": []
   },
   "source": [
    "# BioKotlin GFF Parsing using the FeatureTree Package\n",
    "While the fundamental model of this package is substantially complete, many biological convenience functions using this model need to be implemented."
   ]
  },
  {
   "cell_type": "markdown",
   "id": "b5f68d98-d4a6-4cc0-8490-d15d8eae2dfa",
   "metadata": {
    "tags": []
   },
   "source": [
    "## Simple Parsing and Basic Queries"
   ]
  },
  {
   "cell_type": "markdown",
   "id": "a2ec1ab6-9bae-478f-a14d-e99b47f21f49",
   "metadata": {},
   "source": [
    "First, generate a `Genome` from a GFF3 file:"
   ]
  },
  {
   "cell_type": "code",
   "execution_count": 1,
   "id": "2426fc47-6f02-48f0-b14f-04fc62c7781b",
   "metadata": {},
   "outputs": [],
   "source": [
    "@file:DependsOn(\"../build/libs/BioKotlin-0.08-all.jar\")\n",
    "import biokotlin.featureTree.*\n",
    "val genome = Genome.fromFile(\"resources/b73_shortened.gff\")"
   ]
  },
  {
   "cell_type": "markdown",
   "id": "a0717362-abed-4c30-bfdb-7f7bcf9d2cc2",
   "metadata": {},
   "source": [
    "Let's query a gene within this genome! The `byID` function is constant-time and returns a `Feature?`"
   ]
  },
  {
   "cell_type": "code",
   "execution_count": 2,
   "id": "2839eb7e-9337-4cd6-bfa9-cc69cc5af316",
   "metadata": {},
   "outputs": [],
   "source": [
    "val gene = genome.byID(\"Zm00001eb000010\")!!"
   ]
  },
  {
   "cell_type": "markdown",
   "id": "7974a5bd-b74f-41d0-9e1c-4bf9f6001e56",
   "metadata": {},
   "source": [
    "`gene` is a `Feature` instance because it contains the data in the 9 columns of a GFF file. Let's query some of this data."
   ]
  },
  {
   "cell_type": "code",
   "execution_count": 3,
   "id": "ed16c793-1a68-4cda-818a-e93e993ceed5",
   "metadata": {},
   "outputs": [
    {
     "name": "stdout",
     "output_type": "stream",
     "text": [
      "Source: NAM\n",
      "Start: 34617\n",
      "biotype Attribute: [protein_coding]\n"
     ]
    }
   ],
   "source": [
    "println(\"\"\" \n",
    "Source: ${gene.source}\n",
    "Start: ${gene.start}\n",
    "biotype Attribute: ${gene.attribute(\"biotype\")}\n",
    "\"\"\".trimIndent())"
   ]
  },
  {
   "cell_type": "markdown",
   "id": "6ba0a4df-4095-4a50-95e1-04f56945eb87",
   "metadata": {},
   "source": [
    "`gene` is a `Parent` because it is also the root of a tree of `Feature`. Let's get access to the direct children of `gene`. In this case, there is only one child, a transcript."
   ]
  },
  {
   "cell_type": "code",
   "execution_count": 4,
   "id": "7cd20c63-2a8f-4434-b3bd-6cabc1f9eb14",
   "metadata": {},
   "outputs": [
    {
     "name": "stdout",
     "output_type": "stream",
     "text": [
      "Zm00001eb000010_T001\n"
     ]
    }
   ],
   "source": [
    "val geneChildren = gene.children\n",
    "val transcript = geneChildren.first()\n",
    "println(transcript.id)"
   ]
  },
  {
   "cell_type": "markdown",
   "id": "2877cbf9-c597-497d-b2c8-b8b41abbd0d2",
   "metadata": {},
   "source": [
    "Of course, you can also walk back up the tree with `parent`."
   ]
  },
  {
   "cell_type": "code",
   "execution_count": 5,
   "id": "1e441997-a49a-4af4-9cca-dc1da5cf72e9",
   "metadata": {},
   "outputs": [
    {
     "name": "stdout",
     "output_type": "stream",
     "text": [
      "true\n"
     ]
    }
   ],
   "source": [
    "println(\"${transcript.parent == gene}\")"
   ]
  },
  {
   "cell_type": "markdown",
   "id": "363d168d-c878-4a01-b1cf-5a1d52beb227",
   "metadata": {},
   "source": [
    "It is often useful to apply an operation for every node below the `parent` on the tree, not only its immediate children. This is where `descendants` comes in, which produces a sequence of all nodes below the parent. These nodes are in depth-first, left-to-right order. This sequence can be combined with the powerful Kotlin collections framework to make a range of interesting queries."
   ]
  },
  {
   "cell_type": "code",
   "execution_count": 6,
   "id": "a1494411-6e69-47e9-b1f1-b627e5fa1cf2",
   "metadata": {},
   "outputs": [
    {
     "data": {
      "text/plain": [
       "[mRNA, five_prime_UTR, exon, exon, exon, exon, exon, exon, exon, exon, exon, CDS, three_prime_UTR, three_prime_UTR, three_prime_UTR]"
      ]
     },
     "execution_count": 6,
     "metadata": {},
     "output_type": "execute_result"
    }
   ],
   "source": [
    "gene.descendants().map { it.type }.toList()"
   ]
  },
  {
   "cell_type": "markdown",
   "id": "da7a5f4f-2b0e-4e16-a1a8-24bef944a000",
   "metadata": {},
   "source": [
    "`subtree` is quite similar except that it inclues the receiver as well. Observe the inclusion of \"gene\" in the output."
   ]
  },
  {
   "cell_type": "code",
   "execution_count": 7,
   "id": "81585401-d3fd-49a6-ba92-fed5256e905e",
   "metadata": {},
   "outputs": [
    {
     "data": {
      "text/plain": [
       "[gene, mRNA, five_prime_UTR, exon, exon, exon, exon, exon, exon, exon, exon, exon, CDS, three_prime_UTR, three_prime_UTR, three_prime_UTR]"
      ]
     },
     "execution_count": 7,
     "metadata": {},
     "output_type": "execute_result"
    }
   ],
   "source": [
    "gene.subtree().map { it.type }.toList()"
   ]
  },
  {
   "cell_type": "code",
   "execution_count": null,
   "id": "f148200a-d431-40a9-8c83-b32960ba6584",
   "metadata": {},
   "outputs": [],
   "source": []
  }
 ],
 "metadata": {
  "kernelspec": {
   "display_name": "Kotlin",
   "language": "kotlin",
   "name": "kotlin"
  },
  "language_info": {
   "codemirror_mode": "text/x-kotlin",
   "file_extension": ".kt",
   "mimetype": "text/x-kotlin",
   "name": "kotlin",
   "nbconvert_exporter": "",
   "pygments_lexer": "kotlin",
   "version": "1.8.0-dev-707"
  }
 },
 "nbformat": 4,
 "nbformat_minor": 5
}
