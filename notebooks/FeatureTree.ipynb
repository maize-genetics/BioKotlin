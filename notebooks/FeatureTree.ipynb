{
 "cells": [
  {
   "cell_type": "markdown",
   "id": "5f6cadd8-fba3-451f-9cca-e53be1fe706e",
   "metadata": {
    "tags": []
   },
   "source": [
    "# BioKotlin GFF Parsing using the FeatureTree Package\n",
    "While the fundamental model of this package is substantially complete, many biological convenience functions using this model need to be implemented."
   ]
  },
  {
   "cell_type": "markdown",
   "id": "b5f68d98-d4a6-4cc0-8490-d15d8eae2dfa",
   "metadata": {
    "tags": []
   },
   "source": [
    "## Simple Parsing and Basic Queries"
   ]
  },
  {
   "cell_type": "markdown",
   "id": "a2ec1ab6-9bae-478f-a14d-e99b47f21f49",
   "metadata": {},
   "source": [
    "First, generate a `Genome` from a GFF3 file:"
   ]
  },
  {
   "cell_type": "code",
   "execution_count": 1,
   "id": "2426fc47-6f02-48f0-b14f-04fc62c7781b",
   "metadata": {},
   "outputs": [],
   "source": [
    "@file:DependsOn(\"../build/libs/BioKotlin-0.08-all.jar\")\n",
    "import biokotlin.featureTree.*\n",
    "import java.io.File\n",
    "val genome = Genome.fromFile(\"resources/b73_shortened.gff\")"
   ]
  },
  {
   "cell_type": "markdown",
   "id": "a0717362-abed-4c30-bfdb-7f7bcf9d2cc2",
   "metadata": {},
   "source": [
    "Let's query a gene within this genome! The `byID` function is constant-time and returns a `Feature?`"
   ]
  },
  {
   "cell_type": "code",
   "execution_count": 2,
   "id": "2839eb7e-9337-4cd6-bfa9-cc69cc5af316",
   "metadata": {},
   "outputs": [],
   "source": [
    "val gene = genome.byID(\"Zm00001eb000010\")!!"
   ]
  },
  {
   "cell_type": "markdown",
   "id": "7974a5bd-b74f-41d0-9e1c-4bf9f6001e56",
   "metadata": {},
   "source": [
    "`gene` is a `Feature` instance because it contains the data in the 9 columns of a GFF file. Let's query some of this data."
   ]
  },
  {
   "cell_type": "code",
   "execution_count": 3,
   "id": "ed16c793-1a68-4cda-818a-e93e993ceed5",
   "metadata": {},
   "outputs": [
    {
     "name": "stdout",
     "output_type": "stream",
     "text": [
      "Source: NAM\n",
      "Start: 34617\n",
      "biotype Attribute: [protein_coding]\n"
     ]
    }
   ],
   "source": [
    "println(\"\"\" \n",
    "Source: ${gene.source}\n",
    "Start: ${gene.start}\n",
    "biotype Attribute: ${gene.attribute(\"biotype\")}\n",
    "\"\"\".trimIndent())"
   ]
  },
  {
   "cell_type": "markdown",
   "id": "6ba0a4df-4095-4a50-95e1-04f56945eb87",
   "metadata": {},
   "source": [
    "`gene` is a `Parent` because it is also the root of a tree of `Feature`. Let's get access to the direct children of `gene`. In this case, there is only one child, a transcript."
   ]
  },
  {
   "cell_type": "code",
   "execution_count": 4,
   "id": "7cd20c63-2a8f-4434-b3bd-6cabc1f9eb14",
   "metadata": {},
   "outputs": [
    {
     "name": "stdout",
     "output_type": "stream",
     "text": [
      "Zm00001eb000010_T001\n"
     ]
    }
   ],
   "source": [
    "val geneChildren = gene.children\n",
    "val transcript = geneChildren.first()\n",
    "println(transcript.id)"
   ]
  },
  {
   "cell_type": "markdown",
   "id": "2877cbf9-c597-497d-b2c8-b8b41abbd0d2",
   "metadata": {},
   "source": [
    "Of course, you can also walk back up the tree with `parent`."
   ]
  },
  {
   "cell_type": "code",
   "execution_count": 5,
   "id": "1e441997-a49a-4af4-9cca-dc1da5cf72e9",
   "metadata": {},
   "outputs": [
    {
     "name": "stdout",
     "output_type": "stream",
     "text": [
      "true\n"
     ]
    }
   ],
   "source": [
    "println(\"${transcript.parent == gene}\")"
   ]
  },
  {
   "cell_type": "markdown",
   "id": "363d168d-c878-4a01-b1cf-5a1d52beb227",
   "metadata": {},
   "source": [
    "It is often useful to apply an operation for every node below the `parent` on the tree, not only its immediate children. This is where `descendants` comes in, which produces a sequence of all nodes below the parent. These nodes are in depth-first, left-to-right order. This sequence can be combined with the powerful Kotlin collections framework to make a range of interesting queries."
   ]
  },
  {
   "cell_type": "code",
   "execution_count": 6,
   "id": "a1494411-6e69-47e9-b1f1-b627e5fa1cf2",
   "metadata": {},
   "outputs": [
    {
     "data": {
      "text/plain": [
       "[mRNA, five_prime_UTR, exon, exon, CDS, three_prime_UTR, three_prime_UTR]"
      ]
     },
     "execution_count": 6,
     "metadata": {},
     "output_type": "execute_result"
    }
   ],
   "source": [
    "gene.descendants().map { it.type }.toList()"
   ]
  },
  {
   "cell_type": "markdown",
   "id": "da7a5f4f-2b0e-4e16-a1a8-24bef944a000",
   "metadata": {},
   "source": [
    "`subtree` is quite similar except that it inclues the receiver as well. Observe the inclusion of \"gene\" in the output."
   ]
  },
  {
   "cell_type": "code",
   "execution_count": 7,
   "id": "81585401-d3fd-49a6-ba92-fed5256e905e",
   "metadata": {},
   "outputs": [
    {
     "data": {
      "text/plain": [
       "[gene, mRNA, five_prime_UTR, exon, exon, CDS, three_prime_UTR, three_prime_UTR]"
      ]
     },
     "execution_count": 7,
     "metadata": {},
     "output_type": "execute_result"
    }
   ],
   "source": [
    "gene.subtree().map { it.type }.toList()"
   ]
  },
  {
   "cell_type": "markdown",
   "id": "6277db12-23d8-46c8-a53f-e0adb7e3c8fb",
   "metadata": {},
   "source": [
    "# Mutability\n",
    "The package supports quickly shifting from mutable to immutable representations of your feature tree. This allows for mutability when you need to modify something, but deep immutability when you want an extra assurance of correctness.\n",
    "\n",
    "The package is highly opinionated and does not allow the client to form feature trees that do not constitute a valid GFF3 file."
   ]
  },
  {
   "cell_type": "markdown",
   "id": "52b9c471-74a9-422b-a08f-b684f7fa2855",
   "metadata": {},
   "source": [
    "## Getting a mutable genome"
   ]
  },
  {
   "cell_type": "markdown",
   "id": "461aed9b-2ef2-4923-b511-e0316ac80224",
   "metadata": {},
   "source": [
    "`MutableGenome` instances can be obtained either through creating a mutable clone of an existing `Genome` through the `mutable` function, parsing a file directly into a `MutableGenome`, or creating a blank instance."
   ]
  },
  {
   "cell_type": "code",
   "execution_count": 8,
   "id": "30ca1beb-ada7-4eb9-a4b5-7b2c6ec7f228",
   "metadata": {},
   "outputs": [],
   "source": [
    "// Mutable cloning\n",
    "val immutable1 = Genome.fromFile(\"resources/b73_shortened.gff\")\n",
    "val mutable1 = immutable1.mutable()\n",
    "\n",
    "// Directly parsing to mutable\n",
    "val mutable2 = MutableGenome.fromFile(\"resources/b73_shortened.gff\")\n",
    "\n",
    "//Creating a blank MutableGenome\n",
    "val mutable3 = MutableGenome.blank()"
   ]
  },
  {
   "cell_type": "markdown",
   "id": "6b54217d-6f2c-430d-9a77-a22496b6f458",
   "metadata": {},
   "source": [
    "Of course, when you're done with your mutations, you can clone to an immutable instance if desired."
   ]
  },
  {
   "cell_type": "code",
   "execution_count": 9,
   "id": "b586b0c7-502d-40c2-88e1-630862db542b",
   "metadata": {},
   "outputs": [],
   "source": [
    "val immutable2 = mutable1.immutable()"
   ]
  },
  {
   "cell_type": "markdown",
   "id": "0b4df0e5-a423-4110-b729-4369a4419529",
   "metadata": {},
   "source": [
    "## Point mutations"
   ]
  },
  {
   "cell_type": "markdown",
   "id": "22e6fda8-abdb-4c91-8f4c-2fae369d36de",
   "metadata": {},
   "source": [
    "A \"point mutation\" is one that does not affect the topology of the tree. The feature tree framework supports all the point mutations that you'd expect, allowing for convnient modification of all nine columns of data. Let's make some modifications to an exon. First, let's print out the starting state of this exon."
   ]
  },
  {
   "cell_type": "code",
   "execution_count": 10,
   "id": "cdd9a946-3536-40d7-957b-2b92628af60d",
   "metadata": {},
   "outputs": [
    {
     "name": "stdout",
     "output_type": "stream",
     "text": [
      "chr1\tNAM\texon\t34617\t35318\t.\t+\t.\tParent=Zm00001eb000010_T001;Name=Zm00001eb000010_T001.exon.1;ensembl_end_phase=0;ensembl_phase=0;exon_id=Zm00001eb000010_T001.exon.1;rank=1;\t\n",
      "\n"
     ]
    }
   ],
   "source": [
    "val exon = mutable1.byName(\"Zm00001eb000010_T001.exon.1\").first()\n",
    "println(exon)"
   ]
  },
  {
   "cell_type": "markdown",
   "id": "e97df2b5-0a02-4eb0-aab7-532dbd9e5c81",
   "metadata": {},
   "source": [
    "Now let's do some mutations. Note that start and end cannot be directly modified and `setRange` must be used instead, see [Discontinuous Features](#Discontinuous-Features)."
   ]
  },
  {
   "cell_type": "code",
   "execution_count": 11,
   "id": "0bddd668-ae70-4f1d-9b84-715e557994c4",
   "metadata": {},
   "outputs": [
    {
     "name": "stdout",
     "output_type": "stream",
     "text": [
      "chr1\tmy_source\texon\t34000\t36000\t1.0\t-\t.\tID=my_favorite_exon_id;Parent=Zm00001eb000010_T001;Name=my_favorite_exon_name;ensembl_end_phase=0;ensembl_phase=0;exon_id=Zm00001eb000010_T001.exon.1;rank=1;custom_attr=42;\t\n",
      "\n"
     ]
    }
   ],
   "source": [
    "exon.setRange(34000..36000)\n",
    "exon.addAttribute(\"custom_attr\", \"42\")\n",
    "exon.setID(\"my_favorite_exon_id\")\n",
    "exon.name = \"my_favorite_exon_name\"\n",
    "exon.strand = Strand.MINUS\n",
    "exon.score = 1.0\n",
    "exon.source = \"my_source\"\n",
    "println(exon)"
   ]
  },
  {
   "cell_type": "markdown",
   "id": "140128fe-2680-4957-b8e5-48a163059088",
   "metadata": {},
   "source": [
    "### Illegal point mutations"
   ]
  },
  {
   "cell_type": "markdown",
   "id": "aa08102b-7cfc-457a-b06f-0e4469f1b634",
   "metadata": {},
   "source": [
    "The package is highly opinionated and will not allow states that do not represent valid GFF3 files. While the full documentation of these illegal mutations can be found in the API specification, it is worth discussing common illegal mutations."
   ]
  },
  {
   "cell_type": "markdown",
   "id": "3afe82b3-3a5b-497e-b9ac-f0462819490c",
   "metadata": {},
   "source": [
    "The Parent attribute is defined by the actual topology of the tree and may not be directly modified as other attributes can."
   ]
  },
  {
   "cell_type": "code",
   "execution_count": 12,
   "id": "2c96e6da-11e4-499c-be9b-9c9d3bd9f927",
   "metadata": {},
   "outputs": [
    {
     "name": "stdout",
     "output_type": "stream",
     "text": [
      "The Parent attribute may not be directly modified. Its value is based on the actual structure of the tree.\n",
      "Hint: use copyTo or moveTo.\n"
     ]
    }
   ],
   "source": [
    "try {\n",
    "    exon.setAttribute(\"Parent\", \"NewParent\")\n",
    "} catch (e: IllegalArgumentException) {\n",
    "    println(e.message)\n",
    "}"
   ]
  },
  {
   "cell_type": "markdown",
   "id": "5d4abdb0-375c-4a05-83a4-ec83db20b866",
   "metadata": {},
   "source": [
    "IDs must be unique within a `Genome`!"
   ]
  },
  {
   "cell_type": "code",
   "execution_count": 13,
   "id": "5103d010-4e9b-4029-97a6-48b61d97a082",
   "metadata": {},
   "outputs": [
    {
     "name": "stdout",
     "output_type": "stream",
     "text": [
      "IDs must be unique within a Genome.\n",
      "ID in conflict: Zm00001eb000010\n",
      "Feature already having the ID:\n",
      "chr1\tNAM\tgene\t34617\t40204\t.\t+\t.\tID=Zm00001eb000010;biotype=protein_coding;logic_name=cshl_gene;\t\n",
      "\n",
      "Feature that would conflict:\n",
      "chr1\tmy_source\texon\t34000\t36000\t1.0\t-\t.\tID=my_favorite_exon_id;Parent=Zm00001eb000010_T001;Name=my_favorite_exon_name;ensembl_end_phase=0;ensembl_phase=0;exon_id=Zm00001eb000010_T001.exon.1;rank=1;custom_attr=42;\t\n",
      "\n",
      "Hint: within the feature tree framework, discontinuous features are represented as a single Feature object with\n",
      "several start-end ranges and an equal number of phases, not as distinct objects.\n"
     ]
    }
   ],
   "source": [
    "try {\n",
    "    exon.setAttribute(\"ID\", \"Zm00001eb000010\")\n",
    "} catch (e: IDConflict) {\n",
    "    println(e.message)\n",
    "}"
   ]
  },
  {
   "cell_type": "markdown",
   "id": "dae76d76-ecec-4953-b505-923a68b9120e",
   "metadata": {},
   "source": [
    "## Topological mutations\n",
    "A topological mutation is one that modifies the shape of the true through insertion, deletion, or sorting."
   ]
  },
  {
   "cell_type": "markdown",
   "id": "7f6f3c24-f5be-4893-bb08-059077562226",
   "metadata": {},
   "source": [
    "Insertion adds new features to the tree, either as children of the root `Genome` or of a particular `Feature`."
   ]
  },
  {
   "cell_type": "code",
   "execution_count": 14,
   "id": "2572f2cb-fac3-46e4-9b38-5bedc600218f",
   "metadata": {
    "tags": []
   },
   "outputs": [
    {
     "data": {
      "text/plain": [
       "my_seqid\tmy_source\texon\t100\t200\t42.0\t+\t1\tID=my_exon;Parent=Zm00001eb000010_T001;custom_attr=custom value;\t\n"
      ]
     },
     "execution_count": 14,
     "metadata": {},
     "output_type": "execute_result"
    }
   ],
   "source": [
    "val mRNA = mutable1.byID(\"Zm00001eb000010_T001\")!!\n",
    "mRNA.insert(\n",
    "    seqid = \"my_seqid\",\n",
    "    source = \"my_source\",\n",
    "    type = \"exon\",\n",
    "    range = 100..200,\n",
    "    score = 42.0,\n",
    "    strand = Strand.PLUS,\n",
    "    phase = Phase.ONE,\n",
    "    attributes = mapOf(\"ID\" to listOf(\"my_exon\"), \"custom_attr\" to listOf(\"custom value\"))\n",
    ")"
   ]
  },
  {
   "cell_type": "markdown",
   "id": "f0f607dd-c9e1-4a00-8efd-91152a359cc3",
   "metadata": {},
   "source": [
    "Now observe our inserted exon!"
   ]
  },
  {
   "cell_type": "code",
   "execution_count": 15,
   "id": "68156b8d-2d54-4855-8965-983b7453cd8f",
   "metadata": {},
   "outputs": [
    {
     "name": "stdout",
     "output_type": "stream",
     "text": [
      "[chr1\tmy_source\texon\t34000\t36000\t1.0\t-\t.\tID=my_favorite_exon_id;Parent=Zm00001eb000010_T001;Name=my_favorite_exon_name;ensembl_end_phase=0;ensembl_phase=0;exon_id=Zm00001eb000010_T001.exon.1;rank=1;custom_attr=42;\t\n",
      ", my_seqid\tmy_source\texon\t100\t200\t42.0\t+\t1\tID=my_exon;Parent=Zm00001eb000010_T001;custom_attr=custom value;\t\n",
      "]\n"
     ]
    }
   ],
   "source": [
    "println(mRNA.children.filter { it.source == \"my_source\" })"
   ]
  },
  {
   "cell_type": "markdown",
   "id": "8ef2ddd5-bf60-4bbb-b977-18128fe19b14",
   "metadata": {},
   "source": [
    "Deletion removes a feature and all of its orphaned descendants from a tree."
   ]
  },
  {
   "cell_type": "code",
   "execution_count": 16,
   "id": "9b7ea1e2-0a05-4e2b-a9ee-bd2bceae07f0",
   "metadata": {},
   "outputs": [
    {
     "name": "stdout",
     "output_type": "stream",
     "text": [
      "Before deletion: [chr1\tNAM\tmRNA\t34617\t40204\t.\t+\t.\tID=Zm00001eb000010_T001;Parent=Zm00001eb000010;biotype=protein_coding;transcript_id=Zm00001eb000010_T001;canonical_transcript=1;\t\n",
      "]\n",
      "After deletion: []\n"
     ]
    }
   ],
   "source": [
    "val gene2 = mRNA.parent\n",
    "println(\"Before deletion: ${gene2.children}\")\n",
    "mRNA.delete()\n",
    "println(\"After deletion: ${gene2.children}\")"
   ]
  },
  {
   "cell_type": "markdown",
   "id": "fb69dd27-e5bb-4c7d-80e2-f8c03bb179b9",
   "metadata": {},
   "source": [
    "Still have a pointer to the deleted feature? Attempting to read or write to it throws a `DeletedAccessException` so that you don't accidentally modify anything that is no longer presnet in the `Genome`."
   ]
  },
  {
   "cell_type": "code",
   "execution_count": 17,
   "id": "ad4a8ab2-b99b-453c-8e28-90acb1a5aae0",
   "metadata": {},
   "outputs": [
    {
     "name": "stdout",
     "output_type": "stream",
     "text": [
      "Do not access deleted features or any of their orphaned descendants\n"
     ]
    }
   ],
   "source": [
    "try {\n",
    "    println(mRNA.start)\n",
    "} catch (e: DeletedAccessException) {\n",
    "    println(e.message)\n",
    "}"
   ]
  },
  {
   "cell_type": "markdown",
   "id": "f34fa6b1-cf44-45a8-875f-6a59f3066299",
   "metadata": {},
   "source": [
    "### Illegal topological mutations\n",
    "To maintain the correctness of your model, some topological mutations are prohibited."
   ]
  },
  {
   "cell_type": "markdown",
   "id": "6cd3bbae-b4f7-4e7f-a739-610581e111fa",
   "metadata": {},
   "source": [
    "Creating a parent/child relationship that does not comport with the sequence ontology is prohibited. For the rare cases where you do intend to override the Sequence Ontology, see [Advanced Type Schema](#Advanced-Type-Schema)."
   ]
  },
  {
   "cell_type": "code",
   "execution_count": 18,
   "id": "21bea96d-9ebc-441d-bb07-80e54b0fbb6e",
   "metadata": {},
   "outputs": [
    {
     "name": "stdout",
     "output_type": "stream",
     "text": [
      "contig does not have a part-of relationship with gene and cannot be inserted in a feature with type gene.\n",
      "Hint: If you wish to insert something that does not follow the Sequence Ontology, use MutableGenome.defineType first.\n"
     ]
    }
   ],
   "source": [
    "try {\n",
    "    gene2.insert(\n",
    "        seqid = \"my_seqid\",\n",
    "        source = \"my_source\",\n",
    "        type = \"contig\",\n",
    "        range = 100..200,\n",
    "        score = 42.0,\n",
    "        strand = Strand.PLUS,\n",
    "        phase = Phase.ONE,\n",
    "    )\n",
    "} catch (e: TypeSchemaException) {\n",
    "    println(e.message)\n",
    "}"
   ]
  },
  {
   "cell_type": "markdown",
   "id": "75335adc-f42f-4d8f-900b-aee22eecbdf9",
   "metadata": {},
   "source": [
    "In addition, you cannt modify the topology of the tree while you are iterating over `descendants` or `subtree`. This is because these sequences iterate over the tree, and changing the tree out from under them in the course of their iteration would lead to unpredictable results."
   ]
  },
  {
   "cell_type": "code",
   "execution_count": 19,
   "id": "2693dc6f-a66d-4aeb-bb60-86908d0f9063",
   "metadata": {},
   "outputs": [
    {
     "name": "stdout",
     "output_type": "stream",
     "text": [
      "Don't do concurrent modification!\n"
     ]
    }
   ],
   "source": [
    "try {\n",
    "    mutable1.descendants().forEach {\n",
    "        it.sort { one, two -> one.start - two.start }\n",
    "    }\n",
    "}\n",
    "catch (e: ConcurrentModificationException) {\n",
    "    println(\"Don't do concurrent modification!\")\n",
    "}"
   ]
  },
  {
   "cell_type": "markdown",
   "id": "7c78d7b4-ea87-4d08-a8fd-09c7b1c782cd",
   "metadata": {},
   "source": [
    "# Discontinuous Features\n",
    "GFF3 files represents discontinuous features as multiple rows that share an ID. Since these rows logically constitute the same row, and consequently should have identical properties except start, end, and phase, they are represented as a singular object within the `featureTree` package. This ensures that every instance of a `Feature` has a unique ID attribute and that changes made to a discontinuous feature affect all the discontinuities, ensuring they do not become \"out-of-sync\" through mutation. However, this does present some drawbacks that need to be accounted for."
   ]
  },
  {
   "cell_type": "markdown",
   "id": "cf67eec7-3322-4570-ab66-1816f0fcd8c3",
   "metadata": {},
   "source": [
    "Firstly, the number of descendants that a genome has does not necesarily match the number of rows in the source GFF3 file. If you want to count the number of distinct regions rather than the number of logical features within the file, you should use the `multiplicity` property. This property is equivalent to the number of distinct regions within a `Feature` and is `1` for continuous features."
   ]
  },
  {
   "cell_type": "code",
   "execution_count": 20,
   "id": "a88d3449-8936-471b-a4d5-d6905a68948f",
   "metadata": {},
   "outputs": [
    {
     "name": "stdout",
     "output_type": "stream",
     "text": [
      "Number of logical features: 14\n",
      "Number of distinct regions (equivalent to number of rows): 20\n"
     ]
    }
   ],
   "source": [
    "println(\"Number of logical features: ${genome.descendants().count()}\")\n",
    "println(\"Number of distinct regions (equivalent to number of rows): ${genome.descendants().sumOf { it.multiplicity }}\")"
   ]
  },
  {
   "cell_type": "markdown",
   "id": "45ccd420-acd7-4175-a475-5649a43aab6e",
   "metadata": {},
   "source": [
    "Accessing the distinct regions of these features is done through the `ranges` `phases` and `lengths` properties. `ranges` and `phases` always \"line up,\" meaning that they have the same size (which is equivalent to `multiplicity`) and that `ranges[i]` represents the range with phase `phases[i]`. Of course lengths simply represents the length at each range."
   ]
  },
  {
   "cell_type": "code",
   "execution_count": 21,
   "id": "a721dcab-053a-4470-bc50-e38cb549e6c9",
   "metadata": {},
   "outputs": [
    {
     "name": "stdout",
     "output_type": "stream",
     "text": [
      "Ranges: [34722..35318, 36037..36174, 36259..36504, 36600..36713, 36822..37004, 37416..37633, 38021..38366]\n",
      "Phases: [ZERO, ZERO, ZERO, ZERO, ZERO, ZERO, ONE]\n",
      "Lengths: [597, 138, 246, 114, 183, 218, 346]\n"
     ]
    }
   ],
   "source": [
    "val cds = genome.byID(\"Zm00001eb000010_P001\")!!\n",
    "println(\"Ranges: ${cds.ranges}\")\n",
    "println(\"Phases: ${cds.phases}\")\n",
    "println(\"Lengths: ${cds.lengths}\")"
   ]
  },
  {
   "cell_type": "markdown",
   "id": "71da7a9f-9288-4106-8972-1dff09b314ff",
   "metadata": {},
   "source": [
    "Of course, you can still use `start`, `end`, `range`, `phase`, and `length` for discontinuous features, though not all are useful."
   ]
  },
  {
   "cell_type": "code",
   "execution_count": 22,
   "id": "a6639afc-13ca-4be2-af4f-81218320f538",
   "metadata": {},
   "outputs": [
    {
     "name": "stdout",
     "output_type": "stream",
     "text": [
      "Start returns the least start value among ranges: 34722\n",
      "End returns the greatest end value among ranges: 38366\n",
      "Range returns the leftmost range among ranges, but these are not always ordered meaningfully: 34722..35318\n",
      "Phase returns the leftmost phase among phases, but these are not always ordered meaningfully: ZERO\n",
      "Length returns the length between start and end: 3645\n"
     ]
    }
   ],
   "source": [
    "println(\"Start returns the least start value among ranges: ${cds.start}\")\n",
    "println(\"End returns the greatest end value among ranges: ${cds.end}\")\n",
    "println(\"Range returns the leftmost range among ranges, but these are not always ordered meaningfully: ${cds.range}\")\n",
    "println(\"Phase returns the leftmost phase among phases, but these are not always ordered meaningfully: ${cds.phase}\")\n",
    "println(\"Length returns the length between start and end: ${cds.length}\")"
   ]
  },
  {
   "cell_type": "markdown",
   "id": "7da07ea0-6432-4756-ac92-5f53d1498e10",
   "metadata": {},
   "source": [
    "Observe that the `toString` function for a discontinuous feature returns multiple lines of text."
   ]
  },
  {
   "cell_type": "code",
   "execution_count": 23,
   "id": "6e38af73-ac50-4bea-8197-a588a965035e",
   "metadata": {},
   "outputs": [
    {
     "data": {
      "text/plain": [
       "chr1\tNAM\tCDS\t34722\t35318\t.\t+\t0\tID=Zm00001eb000010_P001;Parent=Zm00001eb000010_T001;protein_id=Zm00001eb000010_P001;\t\n",
       "chr1\tNAM\tCDS\t36037\t36174\t.\t+\t0\tID=Zm00001eb000010_P001;Parent=Zm00001eb000010_T001;protein_id=Zm00001eb000010_P001;\t\n",
       "chr1\tNAM\tCDS\t36259\t36504\t.\t+\t0\tID=Zm00001eb000010_P001;Parent=Zm00001eb000010_T001;protein_id=Zm00001eb000010_P001;\t\n",
       "chr1\tNAM\tCDS\t36600\t36713\t.\t+\t0\tID=Zm00001eb000010_P001;Parent=Zm00001eb000010_T001;protein_id=Zm00001eb000010_P001;\t\n",
       "chr1\tNAM\tCDS\t36822\t37004\t.\t+\t0\tID=Zm00001eb000010_P001;Parent=Zm00001eb000010_T001;protein_id=Zm00001eb000010_P001;\t\n",
       "chr1\tNAM\tCDS\t37416\t37633\t.\t+\t0\tID=Zm00001eb000010_P001;Parent=Zm00001eb000010_T001;protein_id=Zm00001eb000010_P001;\t\n",
       "chr1\tNAM\tCDS\t38021\t38366\t.\t+\t1\tID=Zm00001eb000010_P001;Parent=Zm00001eb000010_T001;protein_id=Zm00001eb000010_P001;\t\n"
      ]
     },
     "execution_count": 23,
     "metadata": {},
     "output_type": "execute_result"
    }
   ],
   "source": [
    "cds.toString()"
   ]
  },
  {
   "cell_type": "markdown",
   "id": "cc35c664-5e24-4ff6-9aff-247dd40143ce",
   "metadata": {},
   "source": [
    "## Mutability with discontinuous features\n",
    "Discontinuities can be modified in a variety of ways, though some limitations are imposed. Most importantly, `ranges` and `phases` must always be the same size. Because of this, all functions that allow you to modify the discontinuities of a feature require you to specify these properties simultaneously."
   ]
  },
  {
   "cell_type": "code",
   "execution_count": 24,
   "id": "b4ace9b3-ff6f-47d2-a7b3-a7751dc8f703",
   "metadata": {},
   "outputs": [
    {
     "name": "stdout",
     "output_type": "stream",
     "text": [
      "cds4 ranges: [34722..35318, 36037..36174, 36259..36504, 36600..36713, 36822..37004, 37416..37633, 38021..38366]\n",
      "cds4 phases: [ZERO, ZERO, ZERO, ZERO, ZERO, ZERO, ONE]\n",
      "~muation 1~\n",
      "cds4 ranges: [34722..35318, 36037..36174, 36259..36504, 36600..36713, 36822..37004, 37416..37633, 38021..38366, 4000..41000]\n",
      "cds4 phases: [ZERO, ZERO, ZERO, ZERO, ZERO, ZERO, ONE, TWO]\n",
      "~mutation 2~\n",
      "cds4 ranges: [100..200, 300..400]\n",
      "cds4 phases: [TWO, ZERO]\n"
     ]
    }
   ],
   "source": [
    "val mutable4 = mutable2.copy()\n",
    "val cds4 = mutable4.byID(\"Zm00001eb000010_P001\")!!\n",
    "println(\"cds4 ranges: ${cds4.ranges}\")\n",
    "println(\"cds4 phases: ${cds4.phases}\")\n",
    "cds4.addDiscontinuity(4000..41000, Phase.TWO)\n",
    "println(\"~muation 1~\")\n",
    "println(\"cds4 ranges: ${cds4.ranges}\")\n",
    "println(\"cds4 phases: ${cds4.phases}\")\n",
    "println(\"~mutation 2~\")\n",
    "cds4.setDiscontinuities(listOf(100..200 to Phase.TWO, 300..400 to Phase.ZERO))\n",
    "println(\"cds4 ranges: ${cds4.ranges}\")\n",
    "println(\"cds4 phases: ${cds4.phases}\")"
   ]
  },
  {
   "cell_type": "markdown",
   "id": "50fdad2c-76ed-40e5-a02b-24486028c00e",
   "metadata": {},
   "source": [
    "Using the `setPhase` or `setRange` will make the feature continuous."
   ]
  },
  {
   "cell_type": "code",
   "execution_count": 25,
   "id": "d775d2d0-d0e5-4912-8c27-ad3df07f12bf",
   "metadata": {},
   "outputs": [
    {
     "name": "stdout",
     "output_type": "stream",
     "text": [
      "~mutation 3~\n",
      "cds4 ranges: [100..200]\n",
      "cds4 phases: [ONE]\n"
     ]
    }
   ],
   "source": [
    "cds4.setPhase(Phase.ONE)\n",
    "println(\"~mutation 3~\")\n",
    "println(\"cds4 ranges: ${cds4.ranges}\")\n",
    "println(\"cds4 phases: ${cds4.phases}\")"
   ]
  },
  {
   "cell_type": "markdown",
   "id": "a870e970-1e62-4cc1-9104-5279dcdd644f",
   "metadata": {},
   "source": [
    "Observe that the range defaults to the leftmost existing range (alternatively you can explicitly specify)."
   ]
  },
  {
   "cell_type": "markdown",
   "id": "840efb2a-6cdc-4e11-b0f8-c6181f5efed1",
   "metadata": {},
   "source": [
    "Any feature with a defined ID can be made discontinuous easily."
   ]
  },
  {
   "cell_type": "code",
   "execution_count": 26,
   "id": "549620de-8342-4c38-abb8-e12b00fa0a9c",
   "metadata": {},
   "outputs": [
    {
     "name": "stdout",
     "output_type": "stream",
     "text": [
      "[1..308452471, 100..200]\n"
     ]
    }
   ],
   "source": [
    "val chrom = mutable4.byID(\"1\")!!\n",
    "chrom.addDiscontinuity(100..200, Phase.UNSPECIFIED)\n",
    "println(chrom.ranges)"
   ]
  },
  {
   "cell_type": "markdown",
   "id": "1898da1b-f1b3-4703-978b-f5757f4695f5",
   "metadata": {},
   "source": [
    "Keep in mind that discontinuous features must *always* have an ID! This ensures that the GFF3 output can recognize that the features are indeed discontinuous."
   ]
  },
  {
   "cell_type": "code",
   "execution_count": 27,
   "id": "d448d6f3-83e7-48d5-ab1c-ba24818c2b76",
   "metadata": {},
   "outputs": [
    {
     "name": "stdout",
     "output_type": "stream",
     "text": [
      "        Discontinuous features must contain an ID property.\n",
      "        Feature: chr1\tNAM\tCDS\t34722\t35318\t.\t+\t0\tID=Zm00001eb000010_P001;Parent=Zm00001eb000010_T001;protein_id=Zm00001eb000010_P001;\t\n",
      "chr1\tNAM\tCDS\t36037\t36174\t.\t+\t0\tID=Zm00001eb000010_P001;Parent=Zm00001eb000010_T001;protein_id=Zm00001eb000010_P001;\t\n",
      "chr1\tNAM\tCDS\t36259\t36504\t.\t+\t0\tID=Zm00001eb000010_P001;Parent=Zm00001eb000010_T001;protein_id=Zm00001eb000010_P001;\t\n",
      "chr1\tNAM\tCDS\t36600\t36713\t.\t+\t0\tID=Zm00001eb000010_P001;Parent=Zm00001eb000010_T001;protein_id=Zm00001eb000010_P001;\t\n",
      "chr1\tNAM\tCDS\t36822\t37004\t.\t+\t0\tID=Zm00001eb000010_P001;Parent=Zm00001eb000010_T001;protein_id=Zm00001eb000010_P001;\t\n",
      "chr1\tNAM\tCDS\t37416\t37633\t.\t+\t0\tID=Zm00001eb000010_P001;Parent=Zm00001eb000010_T001;protein_id=Zm00001eb000010_P001;\t\n",
      "chr1\tNAM\tCDS\t38021\t38366\t.\t+\t1\tID=Zm00001eb000010_P001;Parent=Zm00001eb000010_T001;protein_id=Zm00001eb000010_P001;\t\n",
      "\n"
     ]
    }
   ],
   "source": [
    "val mutable5 = mutable2.copy()\n",
    "val cds5 = mutable5.byID(\"Zm00001eb000010_P001\")!!\n",
    "try {\n",
    "    cds5.setID(null)\n",
    "} catch (e: DiscontinuousLacksID) {\n",
    "    println(e.message)\n",
    "}"
   ]
  },
  {
   "cell_type": "markdown",
   "id": "6b34d2ff-ced3-465e-b0fc-1e3256ed1cb6",
   "metadata": {},
   "source": [
    "Finally, it is forbidden to try to insert a feature with a different number of phases and ranges."
   ]
  },
  {
   "cell_type": "code",
   "execution_count": 28,
   "id": "57726cf7-1c33-4b76-8901-81fcc31dfac2",
   "metadata": {},
   "outputs": [
    {
     "name": "stdout",
     "output_type": "stream",
     "text": [
      "Features must have one range and one phase for each continuous region of the feature, but the supplied ranges\n",
      "and phases do not agree in number.\n",
      "Ranges: [100..200, 300..400]\n",
      "Phases: [ONE]\n"
     ]
    }
   ],
   "source": [
    "val gene5 = mutable5.byID(\"Zm00001eb000010\")!!\n",
    "try {\n",
    "    gene5.insert(\n",
    "        seqid = \"my_seqid\",\n",
    "        source = \"my_source\",\n",
    "        type = \"mRNA\",\n",
    "        ranges = listOf(100..200, 300..400),\n",
    "        score = 42.0,\n",
    "        strand = Strand.PLUS,\n",
    "        phases = listOf(Phase.ONE)\n",
    "    )\n",
    "} catch (e: MixedMultiplicity) {\n",
    "    println(e.message)\n",
    "}"
   ]
  },
  {
   "cell_type": "markdown",
   "id": "d6947ed1-8225-4021-8d52-5240d39eae7e",
   "metadata": {},
   "source": [
    "# Advanced Parsing\n",
    "While the vast majority of input files do not require any special parameters, these parameters can extend the functionality of the parser, particularly its ability to correct non-standard GFF3 files."
   ]
  },
  {
   "cell_type": "markdown",
   "id": "7c44cce8-f616-4e5d-99ad-8daef78158e8",
   "metadata": {},
   "source": [
    "## Text Corrector\n",
    "The `textCorrector` is a function applied to each line of text prior to the parsing attempting to parse it. This provides you an opportunity to correct errors in your GFF3 file, such as the prescense of illegal characters, etc. The provided file below accidentally included multiple ID attributes in some rows. Let's cut those out."
   ]
  },
  {
   "cell_type": "code",
   "execution_count": 29,
   "id": "6b1efa0f-e52c-4b3c-a408-60aae39c14cc",
   "metadata": {},
   "outputs": [
    {
     "name": "stdout",
     "output_type": "stream",
     "text": [
      "UNCORRECTED\n",
      "##gff-version 3\n",
      "chr1\tassembly\tchromosome\t1\t308452471\t.\t.\t.\tID=1;ID=2;Name=chromosome:Zm-B73-REFERENCE-NAM-5.0:1:1:308452471:1\n",
      "chr1\tNAM\tgene\t34617\t40204\t.\t+\t.\tID=Zm00001eb000010;ID=3;biotype=protein_coding;logic_name=cshl_gene\n",
      "chr1\tNAM\tmRNA\t34617\t40204\t.\t+\t.\tID=Zm00001eb000010_T001;ID=4;Parent=Zm00001eb000010;biotype=protein_coding;transcript_id=Zm00001eb000010_T001;canonical_transcript=1\n",
      "chr1\tNAM\tfive_prime_UTR\t34617\t34721\t.\t+\t.\tParent=Zm00001eb000010_T001\n",
      "chr1\tNAM\texon\t34617\t35318\t.\t+\t.\tParent=Zm00001eb000010_T001;Name=Zm00001eb000010_T001.exon.1;ensembl_end_phase=0;ensembl_phase=0;exon_id=Zm00001eb000010_T001.exon.1;rank=1\n",
      "\n",
      "CORRECTED\n",
      "chr1\tassembly\tchromosome\t1\t308452471\t.\t.\t.\tID=1;Name=chromosome:Zm-B73-REFERENCE-NAM-5.0:1:1:308452471:1;\t\n",
      "chr1\tNAM\tgene\t34617\t40204\t.\t+\t.\tID=Zm00001eb000010;logic_name=cshl_gene;\t\n",
      "chr1\tNAM\tmRNA\t34617\t40204\t.\t+\t.\tID=Zm00001eb000010_T001;canonical_transcript=1;\t\n",
      "chr1\tNAM\tfive_prime_UTR\t34617\t34721\t.\t+\t.\tParent=Zm00001eb000010_T001;\t\n",
      "chr1\tNAM\texon\t34617\t35318\t.\t+\t.\tParent=Zm00001eb000010_T001;Name=Zm00001eb000010_T001.exon.1;ensembl_end_phase=0;ensembl_phase=0;exon_id=Zm00001eb000010_T001.exon.1;rank=1;\t\n",
      "\n"
     ]
    }
   ],
   "source": [
    "println(\"UNCORRECTED\")\n",
    "println(File(\"resources/b73_multi_id.gff\").readText())\n",
    "val genomeCorrected = Genome.fromFile(\n",
    "    path = \"resources/b73_multi_id.gff\",\n",
    "    textCorrecter = { text ->\n",
    "        // True if more than one instance of ID\n",
    "        if (text.split(\"ID=\").size > 2) {\n",
    "            text.replaceFirst(Regex(\";ID=.*;\"), \";\")\n",
    "        } else {\n",
    "            text\n",
    "        }\n",
    "    }\n",
    ")\n",
    "println(\"CORRECTED\")\n",
    "println(genomeCorrected)"
   ]
  },
  {
   "cell_type": "markdown",
   "id": "356a8ec1-de01-4da7-b35d-dbedc99ea127",
   "metadata": {},
   "source": [
    "## Parent Resolver\n",
    "Since there are added difficulties of working with multiple parentage (see [Multiple Parentage](#Multiple-Parentage)), it may be desirable to resolve these instances while the file is being parsed. A parent resovler is a function that takes as input the parsed line of the child, and the feature objects that represent its listed parents, in the order that they are listed. Then, it returns an `int` representing the index of the desired parent within the provided list of options. Any lambda can be used, but in practice, the provided `LEFT` and `RIGHT` may be most useful, which pick the leftmost and rightmost parent respeictively."
   ]
  },
  {
   "cell_type": "markdown",
   "id": "8d760efc-bca2-4957-b9d3-b0f8ddd3dafe",
   "metadata": {},
   "source": [
    "In this file, the exons have multiple parents, but you only want the leftmost parents."
   ]
  },
  {
   "cell_type": "code",
   "execution_count": 30,
   "id": "96793019-9d13-4807-be24-70203218b379",
   "metadata": {},
   "outputs": [
    {
     "name": "stdout",
     "output_type": "stream",
     "text": [
      "UNRESOLVED\n",
      "##gff-version 3\n",
      "chr1\tassembly\tchromosome\t1\t308452471\t.\t.\t.\tID=1;Name=chromosome:Zm-B73-REFERENCE-NAM-5.0:1:1:308452471:1\n",
      "chr1\tNAM\tgene\t34617\t40204\t.\t+\t.\tID=Zm00001eb000010;biotype=protein_coding;logic_name=cshl_gene\n",
      "chr1\tNAM\tmRNA\t34617\t40204\t.\t+\t.\tID=Zm00001eb000010_T001;Parent=Zm00001eb000010;biotype=protein_coding;transcript_id=Zm00001eb000010_T001;canonical_transcript=1\n",
      "chr1\tNAM\tfive_prime_UTR\t34617\t34721\t.\t+\t.\tParent=Zm00001eb000010_T001\n",
      "chr1\tNAM\texon\t34617\t35318\t.\t+\t.\tParent=Zm00001eb000010_T001,Zm00001eb000010_T001;Name=Zm00001eb000010_T001.exon.1;ensembl_end_phase=0;ensembl_phase=0;exon_id=Zm00001eb000010_T001.exon.1;rank=1\n",
      "chr1\tNAM\texon\t36037\t36174\t.\t+\t.\tParent=Zm00001eb000010_T001,Zm00001eb000010_T001;Name=Zm00001eb000010_T001.exon.2;ensembl_end_phase=0;ensembl_phase=0;exon_id=Zm00001eb000010_T001.exon.2;rank=2\n",
      "\n",
      "RESOLVED\n",
      "chr1\tassembly\tchromosome\t1\t308452471\t.\t.\t.\tID=1;Name=chromosome:Zm-B73-REFERENCE-NAM-5.0:1:1:308452471:1;\t\n",
      "chr1\tNAM\tgene\t34617\t40204\t.\t+\t.\tID=Zm00001eb000010;biotype=protein_coding;logic_name=cshl_gene;\t\n",
      "chr1\tNAM\tmRNA\t34617\t40204\t.\t+\t.\tID=Zm00001eb000010_T001;Parent=Zm00001eb000010;biotype=protein_coding;transcript_id=Zm00001eb000010_T001;canonical_transcript=1;\t\n",
      "chr1\tNAM\tfive_prime_UTR\t34617\t34721\t.\t+\t.\tParent=Zm00001eb000010_T001;\t\n",
      "chr1\tNAM\texon\t34617\t35318\t.\t+\t.\tParent=Zm00001eb000010_T001;Name=Zm00001eb000010_T001.exon.1;ensembl_end_phase=0;ensembl_phase=0;exon_id=Zm00001eb000010_T001.exon.1;rank=1;\t\n",
      "chr1\tNAM\texon\t36037\t36174\t.\t+\t.\tParent=Zm00001eb000010_T001;Name=Zm00001eb000010_T001.exon.2;ensembl_end_phase=0;ensembl_phase=0;exon_id=Zm00001eb000010_T001.exon.2;rank=2;\t\n",
      "\n"
     ]
    }
   ],
   "source": [
    "println(\"UNRESOLVED\")\n",
    "println(File(\"resources/b73_multi_parent.gff\").readText())\n",
    "\n",
    "val genomeResolved = Genome.fromFile(\n",
    "    path = \"resources/b73_multi_parent.gff\",\n",
    "    parentResolver = LEFT\n",
    ")\n",
    "println(\"\\nRESOLVED\")\n",
    "println(genomeResolved)"
   ]
  },
  {
   "cell_type": "markdown",
   "id": "ec8c50af-425d-423e-9e8c-56b36ce03e65",
   "metadata": {},
   "source": [
    "## Multiple Parentage\n",
    "Due to some added complexities of features containing multiple parents (see [Multiple Parentage](#Multiple-Parentage)), it must be specifically enabled."
   ]
  },
  {
   "cell_type": "markdown",
   "id": "f0fc3012-c221-4ac0-8d6f-62ae726dde94",
   "metadata": {},
   "source": [
    "Using the same multiple parentage file as above, observe the exception that occurs when the `multipleParentage` parameter is allowed to default to `false` and no `parentResolver` is specified."
   ]
  },
  {
   "cell_type": "code",
   "execution_count": 31,
   "id": "db44c7fe-5f76-4100-be4c-5b5b2c4d7d2e",
   "metadata": {},
   "outputs": [
    {
     "name": "stdout",
     "output_type": "stream",
     "text": [
      "Error parsing GFF file resources/b73_multi_parent.gff at line number 6.\n",
      "Text of line:\n",
      "chr1\tNAM\texon\t34617\t35318\t.\t+\t.\tParent=Zm00001eb000010_T001,Zm00001eb000010_T001;Name=Zm00001eb000010_T001.exon.1;ensembl_end_phase=0;ensembl_phase=0;exon_id=Zm00001eb000010_T001.exon.1;rank=1\n",
      "\n",
      "Must enable multipleParentage to have features with multiple parents\n"
     ]
    }
   ],
   "source": [
    "val multipleParentage = try {\n",
    "    Genome.fromFile(\"resources/b73_multi_parent.gff\")\n",
    "} catch (e: ParseException) {\n",
    "    println(e.message)\n",
    "}"
   ]
  },
  {
   "cell_type": "markdown",
   "id": "6510f5ed-3e27-48bb-9b8f-cb29d5477781",
   "metadata": {},
   "source": [
    "Now, with it enabled, it parses fine."
   ]
  },
  {
   "cell_type": "code",
   "execution_count": 32,
   "id": "4824cc61-c582-492d-af4d-f6f207eda35f",
   "metadata": {},
   "outputs": [
    {
     "name": "stdout",
     "output_type": "stream",
     "text": [
      "chr1\tassembly\tchromosome\t1\t308452471\t.\t.\t.\tID=1;Name=chromosome:Zm-B73-REFERENCE-NAM-5.0:1:1:308452471:1;\t\n",
      "chr1\tNAM\tgene\t34617\t40204\t.\t+\t.\tID=Zm00001eb000010;biotype=protein_coding;logic_name=cshl_gene;\t\n",
      "chr1\tNAM\tmRNA\t34617\t40204\t.\t+\t.\tID=Zm00001eb000010_T001;Parent=Zm00001eb000010;biotype=protein_coding;transcript_id=Zm00001eb000010_T001;canonical_transcript=1;\t\n",
      "chr1\tNAM\tfive_prime_UTR\t34617\t34721\t.\t+\t.\tParent=Zm00001eb000010_T001;\t\n",
      "chr1\tNAM\texon\t34617\t35318\t.\t+\t.\tParent=Zm00001eb000010_T001, Zm00001eb000010_T001;Name=Zm00001eb000010_T001.exon.1;ensembl_end_phase=0;ensembl_phase=0;exon_id=Zm00001eb000010_T001.exon.1;rank=1;\t\n",
      "chr1\tNAM\texon\t34617\t35318\t.\t+\t.\tParent=Zm00001eb000010_T001, Zm00001eb000010_T001;Name=Zm00001eb000010_T001.exon.1;ensembl_end_phase=0;ensembl_phase=0;exon_id=Zm00001eb000010_T001.exon.1;rank=1;\t\n",
      "chr1\tNAM\texon\t36037\t36174\t.\t+\t.\tParent=Zm00001eb000010_T001, Zm00001eb000010_T001;Name=Zm00001eb000010_T001.exon.2;ensembl_end_phase=0;ensembl_phase=0;exon_id=Zm00001eb000010_T001.exon.2;rank=2;\t\n",
      "chr1\tNAM\texon\t36037\t36174\t.\t+\t.\tParent=Zm00001eb000010_T001, Zm00001eb000010_T001;Name=Zm00001eb000010_T001.exon.2;ensembl_end_phase=0;ensembl_phase=0;exon_id=Zm00001eb000010_T001.exon.2;rank=2;\t\n",
      "\n"
     ]
    }
   ],
   "source": [
    "val multipleParentage = Genome.fromFile(\n",
    "    path = \"resources/b73_multi_parent.gff\",\n",
    "    multipleParentage = true\n",
    ")\n",
    "println(multipleParentage)"
   ]
  },
  {
   "cell_type": "markdown",
   "id": "da940094-032c-472e-9f37-0d5a36b07bb7",
   "metadata": {},
   "source": [
    "## Modify Schema\n",
    "While in general the tree must obey the Sequence Ontology, it is sometimes necesary to use non-standard types or use types in a non-standard way. Schema modifications allow you to selectively make the schema more permissive. While the schema of a `MutableGenome` can be modified at any time, for a non-standard file to parse correctly these modifications must be made at parse time. See [Advanced Type Schema](#Advanced-Type-Schema) for more."
   ]
  },
  {
   "cell_type": "markdown",
   "id": "63a95d2c-e7db-4a57-b6c2-0fb54a9ab959",
   "metadata": {},
   "source": [
    "In this example, an [Arabidopsis GFF3 file](https://www.arabidopsis.org/download_files/Genes/TAIR10_genome_release/TAIR10_gff3/TAIR_GFF3_ssrs.gff) uses the non-standard type \"satellite.\" Say you wish to treat this type as a synonym of the standard \"satellite_DNA\"."
   ]
  },
  {
   "cell_type": "code",
   "execution_count": 33,
   "id": "b831a49e-e001-4cfb-a734-e93a1aed54bc",
   "metadata": {},
   "outputs": [
    {
     "name": "stdout",
     "output_type": "stream",
     "text": [
      "Raw file\n",
      "Chr1\tTandemRepeatsFinder_v4.04\tsatellite\t1\t115\t.\t+\t.\tID=SSR000001;Name=SSR000001;Unit=CCCTAAA;Length=115;Period=7;Copy=15.3\n",
      "Chr1\tTandemRepeatsFinder_v4.04\tsatellite\t1\t106\t.\t+\t.\tID=SSR000002;Name=SSR000002;Unit=CCCTAAAT;Length=106;Period=8;Copy=13.9\n",
      "Chr1\tTandemRepeatsFinder_v4.04\tsatellite\t3\t90\t.\t+\t.\tID=SSR000003;Name=SSR000003;Unit=CTAAATCCTTAATCCCTAAATCCCTAAACCT;Length=88;Period=31;Copy=2.9\n",
      "Chr1\tTandemRepeatsFinder_v4.04\tsatellite\t4\t91\t.\t+\t.\tID=SSR000004;Name=SSR000004;Unit=TAAATCCTAAATCCA;Length=88;Period=15;Copy=5.8\n",
      "Chr1\tTandemRepeatsFinder_v4.04\tsatellite\t3\t106\t.\t+\t.\tID=SSR000005;Name=SSR000005;Unit=CTAAATCCTAAATCCATAAATCCCTAAATCT;Length=104;Period=31;Copy=3.4\n"
     ]
    }
   ],
   "source": [
    "println(\"Raw file\")\n",
    "println(File(\"resources/arabidopsis_ssr.gff\").readText())\n",
    "val modifiedSchema = Genome.fromFile(\n",
    "    path = \"resources/arabidopsis_ssr.gff\",\n",
    "    modifySchema = { addSynonym(\"satellite_DNA\", \"satellite\") }\n",
    ")"
   ]
  },
  {
   "cell_type": "markdown",
   "id": "d0dc40c5-ca2d-4752-9a54-6641182f47e6",
   "metadata": {},
   "source": [
    "# Multiple Parentage\n",
    "While the parser accepts mutliple parentage, its support is currently experimental. `descendants` and any function dependent on it will produce duplicates, which is generally not what you want. The best workaround curently is to simply call `toSet` on `descendants` to remove these duplicates and then perform your operation."
   ]
  },
  {
   "cell_type": "markdown",
   "id": "5a0eac53-41ec-443d-88b1-f81f048ee97d",
   "metadata": {},
   "source": [
    "# Advanced Type Schema\n",
    "The type schema governing the permissible vocabulary and parent/child relationships can be modified at parse-time, or, for `MutableGenome`, whenever youwant. The type schema can only be modified to be *more permissive* than the base schema defined by the Sequence Ontology."
   ]
  }
 ],
 "metadata": {
  "kernelspec": {
   "display_name": "Kotlin",
   "language": "kotlin",
   "name": "kotlin"
  },
  "language_info": {
   "codemirror_mode": "text/x-kotlin",
   "file_extension": ".kt",
   "mimetype": "text/x-kotlin",
   "name": "kotlin",
   "nbconvert_exporter": "",
   "pygments_lexer": "kotlin",
   "version": "1.8.0-dev-707"
  }
 },
 "nbformat": 4,
 "nbformat_minor": 5
}
