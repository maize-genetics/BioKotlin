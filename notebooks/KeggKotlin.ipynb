{
 "cells": [
  {
   "cell_type": "markdown",
   "metadata": {},
   "source": [
    "## Examples of KEGG DB processing\n",
    "\n",
    "KEGG (Kyoto Encyclopedia of Genes and Genomes) is a database resource where gene catalogs from completely sequenced genomes are linked to higher-level systemic functions of the cell, the organism and the ecosystem.  See this link:\n",
    "\n",
    "https://www.genome.jp/kegg/kegg1.html\n",
    "\n",
    "Biokotlin provides methods to query this database.\n",
    "\n",
    "The examples below access the Biokotlin KeggDB class.  From this enum class a user may access objects e.g. \n",
    "\n",
    "* KEGG pathway maps\n",
    "* BRITE functional hierarchies\n",
    "* KEGG modules\n",
    "* KEGG organisma\n",
    "* Genes in KEGG organismas\n",
    "* Organisms covered by Key\n",
    "\n",
    "Queries are sent to a KeggServer using kotlin khttp.get() commands to a root URL of \"http://rest.kegg.jp\""
   ]
  },
  {
   "cell_type": "code",
   "execution_count": null,
   "metadata": {},
   "outputs": [],
   "source": [
    "// This is old code - use repository instead\n",
    "//If this does not exist run from cmdline: ./gradlew shadowjar\n",
    "//@file:DependsOn(\"../build/libs/biokotlin-0.03-all.jar\")\n",
    "@file:Repository(\"https://jcenter.bintray.com/\")\n",
    "@file:DependsOn(\"org.biokotlin:biokotlin:0.03\")"
   ]
  },
  {
   "cell_type": "code",
   "execution_count": null,
   "metadata": {},
   "outputs": [],
   "source": [
    "// Find the pathway information\n",
    "import biokotlin.kegg.*\n",
    "val pathInfo = KeggDB.pathway.info()\n",
    "println(pathInfo.lines()[0])"
   ]
  },
  {
   "cell_type": "markdown",
   "metadata": {
    "tags": []
   },
   "source": [
    "### Biokotlin KEGG Cache\n",
    "\n",
    "The KeggCache object holds a local cache of all downloaded Kegg Objects.  \n",
    "The keys for this cache are the Kegg entry ID, and the values are any of the Biokotline KeggInfo implementations:\n",
    "    \n",
    "* including KeggGene, KeggPathway, KeggOrtholog.\n",
    "    \n",
    "The cache file is located in the local home of the user directory and is named kegg.cache.json.\n",
    "  "
   ]
  },
  {
   "cell_type": "code",
   "execution_count": null,
   "metadata": {},
   "outputs": [],
   "source": [
    "// Show some organism data \n",
    "%use Krangl\n",
    "\n",
    "import biokotlin.kegg.*\n",
    "KeggCache.loadCache()\n",
    "val keggOrg: DataFrame = organisms()\n",
    "keggOrg.print(maxWidth = 200)\n",
    "KeggCache.close()"
   ]
  },
  {
   "cell_type": "markdown",
   "metadata": {},
   "source": [
    "### Biokotlin KEGG gene examples\n",
    "\n",
    "The Kegg.allGenes request will return the data in a Krangl dataframe format"
   ]
  },
  {
   "cell_type": "code",
   "execution_count": null,
   "metadata": {},
   "outputs": [],
   "source": [
    "val maizeGenes = Kegg.allGenes(\"zma\")\n",
    "val colCount = maizeGenes.ncol\n",
    "val rowCount = maizeGenes.nrow\n",
    "println(\"maizeGenes number of columns: ${colCount}, number of rows: ${rowCount} \")\n",
    "\n",
    "maizeGenes.print(maxRows = 20)\n",
    "        \n",
    "        "
   ]
  },
  {
   "cell_type": "markdown",
   "metadata": {},
   "source": [
    "### Kegg Orthlog examples\n",
    "\n"
   ]
  },
  {
   "cell_type": "code",
   "execution_count": null,
   "metadata": {},
   "outputs": [],
   "source": [
    "val ortholog = Kegg.ortholog(\"K01214\") \n",
    "val orthologName = ortholog.name \n",
    "val orthologDef = ortholog.definition\n",
    "\n",
    "println(\"orthologName: ${orthologName}, orthlog definition: ${orthologDef}\")\n",
    "\n",
    "val orthologZmaGenes = ortholog.genes[\"zma\"] \n",
    "println(\"Number of genes: ${orthologZmaGenes!!.size}\")\n",
    "\n",
    "for (entry in orthologZmaGenes!!) { println(entry) }"
   ]
  },
  {
   "cell_type": "code",
   "execution_count": null,
   "metadata": {},
   "outputs": [],
   "source": [
    "// Get specifics on the genes listed above\n",
    "val gene = Kegg.gene(\"zma:542095\")\n",
    "println(gene)\n"
   ]
  },
  {
   "cell_type": "markdown",
   "metadata": {},
   "source": [
    "### Show parsing a pathway"
   ]
  },
  {
   "cell_type": "code",
   "execution_count": null,
   "metadata": {},
   "outputs": [],
   "source": [
    "val pathway = Kegg.pathway(\"path:zma00500\")\n",
    "println(pathway.name)\n",
    "println(\"Number of genes in this path: ${pathway.genes.size}\")"
   ]
  }
 ],
 "metadata": {
  "kernelspec": {
   "display_name": "Kotlin",
   "language": "kotlin",
   "name": "kotlin"
  },
  "language_info": {
   "codemirror_mode": "text/x-kotlin",
   "file_extension": ".kt",
   "mimetype": "text/x-kotlin",
   "name": "kotlin",
   "nbconvert_exporter": "",
   "pygments_lexer": "kotlin",
   "version": "1.6.0-dev-3567"
  }
 },
 "nbformat": 4,
 "nbformat_minor": 4
}
