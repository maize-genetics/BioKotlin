{
 "cells": [
  {
   "cell_type": "markdown",
   "metadata": {},
   "source": [
    "Working with Nucleotides and Residues in BioKotlin"
   ]
  },
  {
   "cell_type": "code",
   "execution_count": 2,
   "metadata": {},
   "outputs": [],
   "source": [
    "// This is old code - pull from the repositories\n",
    "//If this does not exist run from cmdline: ./gradlew shadowjar\n",
    "//@file:DependsOn(\"../build/libs/biokotlin-0.03-all.jar\")\n",
    "@file:Repository(\"https://jcenter.bintray.com/\")\n",
    "@file:DependsOn(\"org.biokotlin:biokotlin:0.03\")"
   ]
  },
  {
   "cell_type": "code",
   "execution_count": 2,
   "metadata": {},
   "outputs": [],
   "source": [
    "import biokotlin.seq.*"
   ]
  },
  {
   "cell_type": "code",
   "execution_count": 3,
   "metadata": {},
   "outputs": [],
   "source": [
    "val my_seq = ProteinSeq(\"MKQHKAMIVALIVICITAVVAALVTRKDLCEVHIRTGQTEVAVF\")"
   ]
  },
  {
   "cell_type": "code",
   "execution_count": 4,
   "metadata": {},
   "outputs": [
    {
     "data": {
      "text/plain": [
       "MKQHKAMIVALIVICITAVVAALVTRKDLCEVHIRTGQTEVAVF"
      ]
     },
     "execution_count": 4,
     "metadata": {},
     "output_type": "execute_result"
    }
   ],
   "source": [
    "my_seq"
   ]
  },
  {
   "cell_type": "code",
   "execution_count": 5,
   "metadata": {},
   "outputs": [
    {
     "name": "stdout",
     "output_type": "stream",
     "text": [
      "MKQHKAMIVALIVICITAVVAALVTRKDLCEVHIRTGQTEVAVF\n"
     ]
    }
   ],
   "source": [
    "println(my_seq)"
   ]
  },
  {
   "cell_type": "code",
   "execution_count": 6,
   "metadata": {},
   "outputs": [
    {
     "data": {
      "text/plain": [
       "A"
      ]
     },
     "execution_count": 6,
     "metadata": {},
     "output_type": "execute_result"
    }
   ],
   "source": [
    "NUC.A"
   ]
  },
  {
   "cell_type": "code",
   "execution_count": 7,
   "metadata": {},
   "outputs": [],
   "source": [
    "import biokotlin.seq.NUC.*"
   ]
  },
  {
   "cell_type": "code",
   "execution_count": 8,
   "metadata": {},
   "outputs": [
    {
     "data": {
      "text/plain": [
       "331.2218"
      ]
     },
     "execution_count": 8,
     "metadata": {},
     "output_type": "execute_result"
    }
   ],
   "source": [
    "A.dnaWeight"
   ]
  },
  {
   "cell_type": "code",
   "execution_count": 9,
   "metadata": {},
   "outputs": [
    {
     "data": {
      "text/plain": [
       "T"
      ]
     },
     "execution_count": 9,
     "metadata": {},
     "output_type": "execute_result"
    }
   ],
   "source": [
    "A.dnaComplement"
   ]
  },
  {
   "cell_type": "code",
   "execution_count": 10,
   "metadata": {},
   "outputs": [],
   "source": [
    "//amino acid are prefixed by aa to keep it clear from overlapping Nucleotides on letter names\n",
    "import biokotlin.seq.AminoAcid as aa"
   ]
  },
  {
   "cell_type": "code",
   "execution_count": 11,
   "metadata": {},
   "outputs": [
    {
     "data": {
      "text/plain": [
       "Ala"
      ]
     },
     "execution_count": 11,
     "metadata": {},
     "output_type": "execute_result"
    }
   ],
   "source": [
    "aa.A.name3letter"
   ]
  },
  {
   "cell_type": "code",
   "execution_count": 12,
   "metadata": {},
   "outputs": [
    {
     "data": {
      "text/plain": [
       "Trp"
      ]
     },
     "execution_count": 12,
     "metadata": {},
     "output_type": "execute_result"
    }
   ],
   "source": [
    "aa.W.name3letter"
   ]
  },
  {
   "cell_type": "code",
   "execution_count": 13,
   "metadata": {},
   "outputs": [
    {
     "name": "stdout",
     "output_type": "stream",
     "text": [
      "Gly(G) weighs 75.0666\n",
      "Ala(A) weighs 89.0932\n",
      "Ser(S) weighs 105.0926\n",
      "Pro(P) weighs 115.1305\n",
      "Val(V) weighs 117.1463\n",
      "Thr(T) weighs 119.1192\n",
      "Cys(C) weighs 121.1582\n",
      "Ile(I) weighs 131.1729\n",
      "Leu(L) weighs 131.1729\n",
      "Asn(N) weighs 132.1179\n",
      "Asp(D) weighs 133.1027\n",
      "Gln(Q) weighs 146.1445\n",
      "Lys(K) weighs 146.1876\n",
      "Glu(E) weighs 147.1293\n",
      "Met(M) weighs 149.2113\n",
      "His(H) weighs 155.1546\n",
      "Phe(F) weighs 165.1891\n",
      "Arg(R) weighs 174.201\n",
      "Tyr(Y) weighs 181.1885\n",
      "Trp(W) weighs 204.2252\n",
      "Stp(STOP) weighs NaN\n",
      "Gap(GAP) weighs NaN\n"
     ]
    }
   ],
   "source": [
    "aa.values().asSequence()\n",
    "    .sortedBy { it.weight}\n",
    "    .forEach { println(\"${it.name3letter}($it) weighs ${it.weight}\")}"
   ]
  }
 ],
 "metadata": {
  "kernelspec": {
   "display_name": "Kotlin",
   "language": "kotlin",
   "name": "kotlin"
  },
  "language_info": {
   "codemirror_mode": "text/x-kotlin",
   "file_extension": ".kt",
   "mimetype": "text/x-kotlin",
   "name": "kotlin",
   "nbconvert_exporter": "",
   "pygments_lexer": "kotlin",
   "version": "1.6.0-dev-3567"
  }
 },
 "nbformat": 4,
 "nbformat_minor": 4
}
