{
 "cells": [
  {
   "cell_type": "markdown",
   "metadata": {},
   "source": [
    "Testing of BioKotlin Ranges"
   ]
  },
  {
   "cell_type": "code",
   "execution_count": null,
   "metadata": {},
   "outputs": [],
   "source": [
    "//If this does not exist run from cmdline: ./gradlew shadowjar\n",
    "@file:DependsOn(\"../build/libs/biokotlin-0.03-all.jar\")"
   ]
  },
  {
   "cell_type": "code",
   "execution_count": null,
   "metadata": {},
   "outputs": [],
   "source": [
    "import biokotlin.genome.*\n",
    "// import seq* as Ranges will use NucSeqRecord\n",
    "import biokotlin.seq.NUC.*\n",
    "import biokotlin.seq.*\n",
    "import java.util.*\n"
   ]
  },
  {
   "cell_type": "code",
   "execution_count": null,
   "metadata": {
    "collapsed": false,
    "jupyter": {
     "outputs_hidden": false
    },
    "pycharm": {
     "name": "#%%\n"
    }
   },
   "outputs": [],
   "source": [
    "val seq = Seq(\"GCAGAT\")"
   ]
  },
  {
   "cell_type": "code",
   "execution_count": null,
   "metadata": {},
   "outputs": [],
   "source": [
    "val rec1 = NucSeqRecord(NucSeq(\"ATAACACAGAGATATATC\"),\"1\")"
   ]
  },
  {
   "cell_type": "code",
   "execution_count": null,
   "metadata": {},
   "outputs": [],
   "source": [
    "// This creates a subset of the sequence in rec1 - just seq from positions 1 to 6\n",
    "// Note the array positions are 0-based, so this should pull TAACAC\n",
    "val subSettedSeq = rec1[1..6]\n",
    "subSettedSeq"
   ]
  },
  {
   "cell_type": "code",
   "execution_count": null,
   "metadata": {},
   "outputs": [],
   "source": [
    "// create a Sequence Range (SRange) object\n",
    "val sRange = rec1.range(8..12)"
   ]
  },
  {
   "cell_type": "code",
   "execution_count": null,
   "metadata": {},
   "outputs": [],
   "source": [
    "println(sRange)"
   ]
  },
  {
   "cell_type": "code",
   "execution_count": null,
   "metadata": {},
   "outputs": [],
   "source": [
    "val sRangeFlanked = sRange.flankBoth(5)"
   ]
  },
  {
   "cell_type": "code",
   "execution_count": null,
   "metadata": {},
   "outputs": [],
   "source": [
    "println(sRangeFlanked)"
   ]
  },
  {
   "cell_type": "code",
   "execution_count": null,
   "metadata": {},
   "outputs": [],
   "source": [
    "val sRangeFlankRight = sRange.flankRight(5)"
   ]
  },
  {
   "cell_type": "code",
   "execution_count": null,
   "metadata": {},
   "outputs": [],
   "source": [
    "println(sRangeFlankRight)"
   ]
  },
  {
   "cell_type": "code",
   "execution_count": null,
   "metadata": {},
   "outputs": [],
   "source": [
    "import kotlin.collections.*\n",
    "import biokotlin.genome.SeqRangeSort.leftEdge\n",
    "\n",
    "// Create some DNA strings, make range from these strings\n",
    "val dnaString = \"ACGTGGTGAATATATATGCGCGCGTGCGTGGATCAGTCAGTCATGCATGCATGTGTGTACACACATGTGATCGTAGCTAGCTAGCTGACTGACTAGCTGAC\"\n",
    "val dnaString2 = \"ACGTGGTGAATATATATGCGCGCGTGCGTGGACGTACGTACGTACGTATCAGTCAGCTGAC\"\n",
    "val record1 = NucSeqRecord(NucSeq(dnaString), \"Sequence 1\", description = \"The first sequence\",\n",
    "                annotations = mapOf(\"key1\" to \"value1\"))\n",
    "val record2 = NucSeqRecord(NucSeq(dnaString2), \"Sequence 2\", description = \"The second sequence\",\n",
    "                annotations = mapOf(\"key1\" to \"value1\"))\n",
    "\n",
    "var range1 = SeqPositionRanges.of(record1,8..28)\n",
    "var range2 = SeqPositionRanges.of(record2,3..19)\n",
    "var range3 = SeqPositionRanges.of(SeqPosition(record1, 27),SeqPosition(record1,40))\n",
    "var range4 = record2.range(25..40)\n",
    "\n"
   ]
  },
  {
   "cell_type": "code",
   "execution_count": null,
   "metadata": {},
   "outputs": [],
   "source": [
    "// create a list of ranges\n",
    "var srangeList = mutableListOf<SRange>()\n",
    "srangeList.add(range1)\n",
    "srangeList.add(range4)\n",
    "srangeList.add(range3)\n",
    "srangeList.add(range2)\n",
    "\n",
    "println(\"\\nRanges in the List are:\")\n",
    "for(range in srangeList) {\n",
    "    println(range.toString())\n",
    "}"
   ]
  },
  {
   "cell_type": "code",
   "execution_count": null,
   "metadata": {},
   "outputs": [],
   "source": [
    "// Create a set of non-merged ranges\n",
    "val comparator: Comparator<SRange> = SeqRangeSort.by(SeqRangeSort.numberThenAlphaSort,leftEdge)\n",
    "val nonCoalsedSet = nonCoalescingSetOf(comparator, srangeList)\n",
    "\n",
    "println(\"\\nThe noncoalsedSet has these values:\")\n",
    "for (range in nonCoalsedSet) {\n",
    "    println(range.toString())\n",
    "}"
   ]
  },
  {
   "cell_type": "code",
   "execution_count": null,
   "metadata": {},
   "outputs": [],
   "source": [
    "// Create set, merge the ranges\n",
    "val coalesedSet = coalescingSetOf(comparator,srangeList)\n",
    "\n",
    "println(\"\\nthe coalsedSet has these values:\")\n",
    "for (range in coalesedSet) {\n",
    "    println(range.toString())\n",
    "}\n"
   ]
  },
  {
   "cell_type": "code",
   "execution_count": null,
   "metadata": {
    "collapsed": false,
    "jupyter": {
     "outputs_hidden": false
    },
    "pycharm": {
     "name": "#%%\n"
    }
   },
   "outputs": [],
   "source": [
    "// this will sort the set by seqRecord, then lowerEndpoint site\n",
    "var setRangesSorted = nonCoalsedSet.toSortedSet(comparator)\n",
    "for (range in setRangesSorted) {\n",
    "    println(range.toString())\n",
    "}\n"
   ]
  },
  {
   "cell_type": "code",
   "execution_count": null,
   "metadata": {},
   "outputs": [],
   "source": [
    "%use krangl\n",
    "val dnaString = \"ACGTGGTGAATATATATGCGCGCGTGCGTGGATCAGTCAGTCATGCATGCATGTGTGTACACACATGTGATCGTAGCTAGCTAGCTGACTGACTAGCTGACCGTACGTACGTATCAGTCAGCTGACACGTGGTGAATATATATGCGCGCGTGCGTGGATCAGTCAGTCATGCATGCATGTGTGTACACA\"\n",
    "    val dnaString2 = \"ACGTGGTGAATATATATGCGCGCGTGCGTGGACGTACGTACGTACGTATCAGTCAGCTGAC\"\n",
    "    val dnaString3 = \"TCAGTGATGATGATGCACACACACACACGTAGCTAGCTGCTAGCTAGTGATACGTAGCAAAAAATTTTTT\"\n",
    "    val record1 = NucSeqRecord(NucSeq(dnaString), \"Seq1\")\n",
    "    val record2 = NucSeqRecord(NucSeq(dnaString2), \"Seq2\")\n",
    "    val record3 = NucSeqRecord(NucSeq(dnaString3), \"Seq3\")\n",
    "    val record4 = NucSeqRecord(NucSeq(dnaString2), \"Seq2-id2\")\n",
    "    val sr1 = record1.range(27..44)\n",
    "    val sr2 = record1.range(1..15)\n",
    "    val sr3 = record3.range(18..33)\n",
    "    val sr4 = record2.range(25..35)\n",
    "    val sr5 = record2.range(3..13)\n",
    "    val sr6 = record1.range(20..28)\n",
    "val srSet1 = nonCoalescingSetOf(SeqRangeSort.by(SeqRangeSort.numberThenAlphaSort, SeqRangeSort.leftEdge), sr1,sr2,sr3,sr5,sr4)\n",
    "var df:DataFrame = srSet1.toDataFrame()\n",
    "df.print()\n"
   ]
  }
 ],
 "metadata": {
  "kernelspec": {
   "display_name": "Kotlin",
   "language": "kotlin",
   "name": "kotlin"
  },
  "language_info": {
   "codemirror_mode": "kotlin",
   "file_extension": ".kt",
   "mimetype": "text/x-kotlin",
   "name": "kotlin",
   "nbconvert_exporter": "",
   "pygments_lexer": "kotlin",
   "version": "1.6.0-dev-1733"
  }
 },
 "nbformat": 4,
 "nbformat_minor": 4
}