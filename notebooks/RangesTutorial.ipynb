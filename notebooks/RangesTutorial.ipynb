{
 "cells": [
  {
   "cell_type": "markdown",
   "metadata": {},
   "source": [
    "Testing of BioKotlin Ranges"
   ]
  },
  {
   "cell_type": "code",
   "execution_count": 1,
   "metadata": {},
   "outputs": [],
   "source": [
    "//If this does not exist run from cmdline: ./gradlew shadowjar\n",
    "@file:DependsOn(\"../build/libs/biokotlin-0.03-all.jar\")\n"
   ]
  },
  {
   "cell_type": "code",
   "execution_count": 2,
   "metadata": {},
   "outputs": [],
   "source": [
    "import biokotlin.genome.*\n",
    "// import seq* as Ranges will use NucSeqRecord\n",
    "import biokotlin.seq.NUC.*\n",
    "import biokotlin.seq.*\n"
   ]
  },
  {
   "cell_type": "code",
   "execution_count": 3,
   "metadata": {
    "collapsed": false,
    "jupyter": {
     "outputs_hidden": false
    },
    "pycharm": {
     "name": "#%%\n"
    }
   },
   "outputs": [],
   "source": [
    "val seq = Seq(\"GCAGAT\")"
   ]
  },
  {
   "cell_type": "code",
   "execution_count": 4,
   "metadata": {},
   "outputs": [],
   "source": [
    "val rec1 = NucSeqRecord(NucSeq(\"ATAACACAGAGATATATC\"),\"1\")"
   ]
  },
  {
   "cell_type": "code",
   "execution_count": 6,
   "metadata": {},
   "outputs": [],
   "source": [
    "// This creates a subset of the sequence in rec1 - just seq from positions 1 to 6\n",
    "// Note the array positions are 0-based, so this should pull TAACAC\n",
    "val subSettedSeq = rec1[1..6]"
   ]
  },
  {
   "cell_type": "code",
   "execution_count": 7,
   "metadata": {},
   "outputs": [],
   "source": [
    "// create a Sequence Range (SRange) object\n",
    "val sRange = rec1.range(8..12)"
   ]
  },
  {
   "cell_type": "code",
   "execution_count": 8,
   "metadata": {},
   "outputs": [
    {
     "name": "stdout",
     "output_type": "stream",
     "text": [
      "1:8..1:12\n"
     ]
    }
   ],
   "source": [
    "println(sRange)"
   ]
  },
  {
   "cell_type": "code",
   "execution_count": 10,
   "metadata": {},
   "outputs": [],
   "source": [
    "val sRangeFlanked = sRange.flankBoth(5)"
   ]
  },
  {
   "cell_type": "code",
   "execution_count": 11,
   "metadata": {},
   "outputs": [
    {
     "name": "stdout",
     "output_type": "stream",
     "text": [
      "[1:3..1:7, 1:13..1:17]\n"
     ]
    }
   ],
   "source": [
    "println(sRangeFlanked)"
   ]
  },
  {
   "cell_type": "code",
   "execution_count": 12,
   "metadata": {},
   "outputs": [],
   "source": [
    "val sRangeFlankRight = sRange.flankRight(5)"
   ]
  },
  {
   "cell_type": "code",
   "execution_count": 13,
   "metadata": {},
   "outputs": [
    {
     "name": "stdout",
     "output_type": "stream",
     "text": [
      "1:13..1:17\n"
     ]
    }
   ],
   "source": [
    "println(sRangeFlankRight)"
   ]
  },
  {
   "cell_type": "code",
   "execution_count": 14,
   "metadata": {},
   "outputs": [],
   "source": [
    "val dnaString = \"ACGTGGTGAATATATATGCGCGCGTGCGTGGATCAGTCAGTCATGCATGCATGTGTGTACACACATGTGATCGTAGCTAGCTAGCTGACTGACTAGCTGAC\"\n",
    "val dnaString2 = \"ACGTGGTGAATATATATGCGCGCGTGCGTGGACGTACGTACGTACGTATCAGTCAGCTGAC\"\n",
    "val record1 = NucSeqRecord(NucSeq(dnaString), \"Sequence 1\", description = \"The first sequence\",\n",
    "                annotations = mapOf(\"key1\" to \"value1\"))\n",
    "val record2 = NucSeqRecord(NucSeq(dnaString2), \"Sequence 2\", description = \"The second sequence\",\n",
    "                annotations = mapOf(\"key1\" to \"value1\"))\n",
    "\n",
    "var range1 = SeqPositionRanges.of(record1,8..28)\n",
    "var range2 = SeqPositionRanges.of(record2,3..19)\n",
    "var range3 = SeqPositionRanges.of(SeqPosition(record1, 32),SeqPosition(record1,40))\n",
    "var range4 = record2.range(25..40)\n",
    "\n",
    "// is there a way to default to this setOf without typing entire class?\n",
    "// the setOf in genome.Ranges is a java Navigable set, which does the sorting\n",
    "var setRanges = overlappingSetOf(SeqPositionRangeComparator.sprComparator,range1, range4, range3, range2)"
   ]
  },
  {
   "cell_type": "code",
   "execution_count": 15,
   "metadata": {},
   "outputs": [
    {
     "name": "stdout",
     "output_type": "stream",
     "text": [
      "Sequence 1:8..Sequence 1:28\n",
      "\n",
      "Sequence 1:32..Sequence 1:40\n",
      "\n",
      "Sequence 2:3..Sequence 2:19\n",
      "\n",
      "Sequence 2:25..Sequence 2:40\n",
      "\n"
     ]
    }
   ],
   "source": [
    "for (range in setRanges) {\n",
    "    println(range.toString())\n",
    "    println()\n",
    "}"
   ]
  },
  {
   "cell_type": "code",
   "execution_count": 16,
   "metadata": {
    "collapsed": false,
    "jupyter": {
     "outputs_hidden": false
    },
    "pycharm": {
     "name": "#%%\n"
    }
   },
   "outputs": [],
   "source": [
    "// if a Java/Kotlin non-sorted set were used above, this would sort the set by seqRecord, then lowerEndpoint site\n",
    "var setRangesSorted = setRanges.toSortedSet(SeqPositionRangeComparator.sprComparator)\n"
   ]
  },
  {
   "cell_type": "code",
   "execution_count": 17,
   "metadata": {
    "collapsed": false,
    "jupyter": {
     "outputs_hidden": false
    },
    "pycharm": {
     "name": "#%%\n"
    }
   },
   "outputs": [
    {
     "name": "stdout",
     "output_type": "stream",
     "text": [
      "Sequence 1:8..Sequence 1:28\n",
      "\n",
      "Sequence 1:32..Sequence 1:40\n",
      "\n",
      "Sequence 2:3..Sequence 2:19\n",
      "\n",
      "Sequence 2:25..Sequence 2:40\n",
      "\n"
     ]
    }
   ],
   "source": [
    "for (range in setRangesSorted) {\n",
    "    println(range.toString())\n",
    "    println()\n",
    "}"
   ]
  },
  {
   "cell_type": "code",
   "execution_count": 14,
   "metadata": {},
   "outputs": [],
   "source": []
  },
  {
   "cell_type": "code",
   "execution_count": 15,
   "metadata": {},
   "outputs": [
    {
     "name": "stdout",
     "output_type": "stream",
     "text": [
      "[SeqPosition(seqRecord=ID: Sequence 1\n",
      "Description: The first sequence\n",
      "key1: value1\n",
      "Sequence: ACGTGGTGAATATATATGCGCGCGTGCGTGGATCAGTCAGTCATGCATGCATGTGTGTACACACATGTGATCGTAGCTAGCTAGCTGACTGACTAGCTGAC\n",
      ", site=8, comparator=biokotlin.genome.SeqPositionAlphaComparator@55b84b18)..SeqPosition(seqRecord=ID: Sequence 1\n",
      "Description: The first sequence\n",
      "key1: value1\n",
      "Sequence: ACGTGGTGAATATATATGCGCGCGTGCGTGGATCAGTCAGTCATGCATGCATGTGTGTACACACATGTGATCGTAGCTAGCTAGCTGACTGACTAGCTGAC\n",
      ", site=28, comparator=biokotlin.genome.SeqPositionAlphaComparator@55b84b18)]\n",
      "\n",
      "[SeqPosition(seqRecord=ID: Sequence 1\n",
      "Description: The first sequence\n",
      "key1: value1\n",
      "Sequence: ACGTGGTGAATATATATGCGCGCGTGCGTGGATCAGTCAGTCATGCATGCATGTGTGTACACACATGTGATCGTAGCTAGCTAGCTGACTGACTAGCTGAC\n",
      ", site=32, comparator=biokotlin.genome.SeqPositionAlphaComparator@55b84b18)..SeqPosition(seqRecord=ID: Sequence 1\n",
      "Description: The first sequence\n",
      "key1: value1\n",
      "Sequence: ACGTGGTGAATATATATGCGCGCGTGCGTGGATCAGTCAGTCATGCATGCATGTGTGTACACACATGTGATCGTAGCTAGCTAGCTGACTGACTAGCTGAC\n",
      ", site=40, comparator=biokotlin.genome.SeqPositionAlphaComparator@55b84b18)]\n",
      "\n",
      "[SeqPosition(seqRecord=ID: Sequence 2\n",
      "Description: The second sequence\n",
      "key1: value1\n",
      "Sequence: ACGTGGTGAATATATATGCGCGCGTGCGTGGACGTACGTACGTACGTATCAGTCAGCTGAC\n",
      ", site=3, comparator=biokotlin.genome.SeqPositionAlphaComparator@55b84b18)..SeqPosition(seqRecord=ID: Sequence 2\n",
      "Description: The second sequence\n",
      "key1: value1\n",
      "Sequence: ACGTGGTGAATATATATGCGCGCGTGCGTGGACGTACGTACGTACGTATCAGTCAGCTGAC\n",
      ", site=19, comparator=biokotlin.genome.SeqPositionAlphaComparator@55b84b18)]\n",
      "\n",
      "[SeqPosition(seqRecord=ID: Sequence 2\n",
      "Description: The second sequence\n",
      "key1: value1\n",
      "Sequence: ACGTGGTGAATATATATGCGCGCGTGCGTGGACGTACGTACGTACGTATCAGTCAGCTGAC\n",
      ", site=25, comparator=biokotlin.genome.SeqPositionAlphaComparator@55b84b18)..SeqPosition(seqRecord=ID: Sequence 2\n",
      "Description: The second sequence\n",
      "key1: value1\n",
      "Sequence: ACGTGGTGAATATATATGCGCGCGTGCGTGGACGTACGTACGTACGTATCAGTCAGCTGAC\n",
      ", site=40, comparator=biokotlin.genome.SeqPositionAlphaComparator@55b84b18)]\n",
      "\n"
     ]
    }
   ],
   "source": []
  },
  {
   "cell_type": "code",
   "execution_count": null,
   "metadata": {},
   "outputs": [],
   "source": []
  }
 ],
 "metadata": {
  "kernelspec": {
   "display_name": "Kotlin",
   "language": "kotlin",
   "name": "kotlin"
  },
  "language_info": {
   "codemirror_mode": "text/x-kotlin",
   "file_extension": ".kt",
   "mimetype": "text/x-kotlin",
   "name": "kotlin",
   "pygments_lexer": "kotlin",
   "version": "1.4.0-dev-7568"
  }
 },
 "nbformat": 4,
 "nbformat_minor": 4
}