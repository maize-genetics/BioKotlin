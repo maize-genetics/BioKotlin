{
 "cells": [
  {
   "cell_type": "markdown",
   "metadata": {},
   "source": [
    "## Biokotlin Range Testing\n",
    "\n",
    "Biokotlin SeqPositions objects that contain an optional SeqRecord (containing DNA/RNA or Amino Acid sequences) and a site.\n",
    "\n",
    "Biokotlin SRanges are objects containing an interval of SeqPositions.\n",
    "\n",
    "This notebook demonstrates operations to construct and manage biokotlin SRanges"
   ]
  },
  {
   "cell_type": "markdown",
   "metadata": {},
   "source": [
    "### Setup initial imports and dependencies"
   ]
  },
  {
   "cell_type": "code",
   "execution_count": null,
   "metadata": {},
   "outputs": [],
   "source": [
    "//If this does not exist run from cmdline: ./gradlew shadowjar\n",
    "// THis is old code - if the imports don't work\n",
    "//@file:DependsOn(\"../build/libs/biokotlin-0.03-all.jar\")\n",
    "@file:Repository(\"https://jcenter.bintray.com/\")\n",
    "@file:DependsOn(\"org.biokotlin:biokotlin:0.03\")"
   ]
  },
  {
   "cell_type": "code",
   "execution_count": null,
   "metadata": {},
   "outputs": [],
   "source": [
    "import biokotlin.genome.*\n",
    "// import seq* as Ranges will use NucSeqRecord\n",
    "import biokotlin.seq.NUC.*\n",
    "import biokotlin.seq.*\n",
    "import java.util.*\n"
   ]
  },
  {
   "cell_type": "markdown",
   "metadata": {},
   "source": [
    "### Create a Sequence and a SeqRecord.  \n",
    "\n",
    "By default, calling Seq(<sequence>) or NucSeq(<sequence>) will create a NucSeq class with DNA/RNA sequence.  To create a class of AminoAcid sequence we would specify ProteinSeq(<sequence>)\n",
    "    \n",
    "In the example below, the name of the sequence is \"1\".  \n",
    "    "
   ]
  },
  {
   "cell_type": "code",
   "execution_count": null,
   "metadata": {
    "collapsed": false,
    "jupyter": {
     "outputs_hidden": false
    },
    "pycharm": {
     "name": "#%%\n"
    }
   },
   "outputs": [],
   "source": [
    "\n",
    "val seq = Seq(\"GCAGAT\")"
   ]
  },
  {
   "cell_type": "code",
   "execution_count": null,
   "metadata": {},
   "outputs": [],
   "source": [
    "val rec1 = NucSeqRecord(NucSeq(\"ATAACACAGAGATATATC\"),\"1\")\n",
    "val rec1a = NucSeqRecord(seq,\"1\")\n",
    "println(rec1)\n",
    "println(rec1a)"
   ]
  },
  {
   "cell_type": "markdown",
   "metadata": {},
   "source": [
    "### Create a subsetted sequence\n",
    "\n",
    "To subset a sequence, give the 1-based start and end coordinates you would like included for this sequence"
   ]
  },
  {
   "cell_type": "code",
   "execution_count": null,
   "metadata": {},
   "outputs": [],
   "source": [
    "// This creates a subset of the sequence in rec1 - just seq from positions 1 to 6\n",
    "// Note the array positions are 0-based, so this should pull TAACAC\n",
    "// Also note that the coordinates for the slice (1..6) are inclusive/includes - so 6 total\n",
    "val subSettedSeq = rec1[1..6]\n",
    "subSettedSeq"
   ]
  },
  {
   "cell_type": "markdown",
   "metadata": {},
   "source": [
    "### Create a SeqPosition\n",
    "\n",
    "Biokotlin SeqPositions may be created with or without a SeqRecord object.\n",
    "\n",
    "If a SeqPosition is created with a SeqRecord object, the site value must not exceed the length of the stored sequence."
   ]
  },
  {
   "cell_type": "code",
   "execution_count": null,
   "metadata": {},
   "outputs": [],
   "source": [
    "val seqPos1 = SeqPosition(rec1, 8)\n",
    "println(seqPos1)\n",
    "val seqPosNoRecord = SeqPosition(null,8)\n",
    "println(seqPosNoRecord)"
   ]
  },
  {
   "cell_type": "markdown",
   "metadata": {},
   "source": [
    "### Create a Biokotlin SRange\n",
    "\n",
    "To create an SRange object we specify a SeqRecord and provide the start and end coordinates for the range. That range will create the starting/ending SeqPosition objects using the specified SecRecord for both.\n",
    "\n",
    "Alternately, you can explicitly specify the SeqPosition objects for the start and end coordinates."
   ]
  },
  {
   "cell_type": "code",
   "execution_count": null,
   "metadata": {},
   "outputs": [],
   "source": [
    "// create a Sequence Range (SRange) object from a SeqRecord\n",
    "val sRange = rec1.range(8..12)\n",
    "println(sRange)\n",
    "\n",
    "// Create a Sequence Rane (SRange) object from SeqPosition objects\n",
    "// THis also demonstrates the \"plus\" operator\n",
    "val sRange2 = seqPos1..seqPos1.plus(4)\n",
    "println(sRange2)"
   ]
  },
  {
   "cell_type": "markdown",
   "metadata": {},
   "source": [
    "## Flanking\n",
    "Flanking ranges is similar to bedtools flanking.  flankBoth will create two new flanking intervals, one interval on each side of the SRange interval. For an SRange Set it will create two new flanking intervals for each interval in the set. \n",
    "\n",
    "If the SRange contains a SeqRecord the Note that flank will restrict the created flanking intervals to the size of the chromosome (i.e. no start < 0 and no end > chromosome size). \n",
    "\n",
    "The image below shows flanking both sides by 10bps, and just flanking the left side.  \n",
    "![Range_Flank.png](../resources/Range_Flank.png)\n",
    "\n"
   ]
  },
  {
   "cell_type": "code",
   "execution_count": null,
   "metadata": {},
   "outputs": [],
   "source": [
    "val sRangeFlanked = sRange.flankBoth(5)"
   ]
  },
  {
   "cell_type": "code",
   "execution_count": null,
   "metadata": {},
   "outputs": [],
   "source": [
    "println(\"sRange: ${sRange}\")\n",
    "println(\"sRangeFlanked: ${sRangeFlanked}\")"
   ]
  },
  {
   "cell_type": "code",
   "execution_count": null,
   "metadata": {},
   "outputs": [],
   "source": [
    "val sRangeFlankRight = sRange.flankRight(10)"
   ]
  },
  {
   "cell_type": "code",
   "execution_count": null,
   "metadata": {},
   "outputs": [],
   "source": [
    "// Why does it stop at 18?  Because the DNA sequence is only 18 chars long!\n",
    "println(sRange)\n",
    "println(sRangeFlankRight)"
   ]
  },
  {
   "cell_type": "code",
   "execution_count": null,
   "metadata": {},
   "outputs": [],
   "source": [
    "val sRangeFlankLeft = sRange.flankLeft(4)\n",
    "println(sRangeFlankLeft)"
   ]
  },
  {
   "cell_type": "markdown",
   "metadata": {},
   "source": [
    "## Create a set of SRanges (SRangeSet)\n",
    "\n",
    "SRangeSet is a set of SRanges.  Operations may be performed on it much the same as on an SRang.  \n",
    "\n",
    "When adding the sequences to an SRangeSet, they will be sorted based on a default comparator.  \n",
    "\n",
    "Show the intersection of the 2 sets:"
   ]
  },
  {
   "cell_type": "code",
   "execution_count": null,
   "metadata": {},
   "outputs": [],
   "source": [
    "%use Krangl\n",
    "val dnaString = \"ACGTGGTGAATATATATGCGCGCGTGCGTGGATCAGTCAGTCATGCATGCATGTGTGTACACACATGTGATCGTAGCTAGCTAGCTGACTGACTAGCTGACCGTACGTACGTATCAGTCAGCTGACACGTGGTGAATATATATGCGCGCGTGCGTGGATCAGTCAGTCATGCATGCATGTGTGTACACA\"\n",
    "val dnaString2 = \"ACGTGGTGAATATATATGCGCGCGTGCGTGGACGTACGTACGTACGTATCAGTCAGCTGAC\"\n",
    "val dnaString3 = \"TCAGTGATGATGATGCACACACACACACGTAGCTAGCTGCTAGCTAGTGATACGTAGCAAAAAATTTTTT\"\n",
    "val record1 = NucSeqRecord(NucSeq(dnaString), \"Seq1\")\n",
    "val record2 = NucSeqRecord(NucSeq(dnaString2), \"Seq2\")\n",
    "val record3 = NucSeqRecord(NucSeq(dnaString3), \"Seq3\")\n",
    "val record4 = NucSeqRecord(NucSeq(dnaString2), \"Seq2-id2\")\n",
    "       \n",
    "val sr1 = record1.range(27..40)\n",
    "val sr2 = record1.range(1..15)\n",
    "val sr6 = record1.range(44..58)\n",
    "val sr3 = record3.range(18..33)\n",
    "val sr4 = record2.range(25..35)\n",
    "val sr5 = record2.range(3..13)\n",
    "val set1 = nonCoalescingSetOf(SeqRangeSort.by(SeqRangeSort.numberThenAlphaSort, SeqRangeSort.leftEdge), sr1,sr6,sr2,sr3,sr5,sr4)\n",
    "val s1df:DataFrame = set1.toDataFrame()\n",
    "println(\"SRangeSet 1:\")\n",
    "s1df.print()\n",
    "\n",
    "val sr10 = record1.range(30..35)\n",
    "val sr20 = record1.range(18..22)\n",
    "val sr60 = record1.range(40..50)\n",
    "val sr30 = record3.range(1..10)\n",
    "val sr40 = record2.range(45..55)\n",
    "val sr50 = record2.range(10..13)\n",
    "val set2 = nonCoalescingSetOf(SeqRangeSort.by(SeqRangeSort.numberThenAlphaSort, SeqRangeSort.leftEdge), sr10,sr60,sr20,sr30,sr50,sr40)\n",
    "val s2df:DataFrame = set2.toDataFrame()\n",
    "println(\"SRangeSet 2:\")\n",
    "s2df.print()\n",
    "\n"
   ]
  },
  {
   "cell_type": "markdown",
   "metadata": {},
   "source": [
    "## Intersections - similar to bedTools intersection\n",
    "\n",
    "![Range_Intersect.png](../resources/Range_Intersect.png)"
   ]
  },
  {
   "cell_type": "code",
   "execution_count": null,
   "metadata": {},
   "outputs": [],
   "source": [
    "// Intersect the ranges above.\n",
    "val intersections = set1.intersect(set2)\n",
    "println(\"intersection size: ${intersections.size}\")\n",
    "val sidf:DataFrame = intersections.toDataFrame()\n",
    "sidf.print()"
   ]
  },
  {
   "cell_type": "markdown",
   "metadata": {},
   "source": [
    "## Coalescing and non-Coalescing Set of Ranges\n",
    "\n",
    "Biokotlin allows the user to create sets of ranges that merge overlapping ranges or leave them independent.\n",
    "\n",
    "Again, create some ranges, add to a set sorted by a specific comparator, create merged and non-merged sets of SRanges."
   ]
  },
  {
   "cell_type": "code",
   "execution_count": null,
   "metadata": {},
   "outputs": [],
   "source": [
    "import kotlin.collections.*\n",
    "import biokotlin.genome.SeqRangeSort.leftEdge\n",
    "\n",
    "// Create some DNA strings, make range from these strings\n",
    "val dnaString = \"ACGTGGTGAATATATATGCGCGCGTGCGTGGATCAGTCAGTCATGCATGCATGTGTGTACACACATGTGATCGTAGCTAGCTAGCTGACTGACTAGCTGAC\"\n",
    "val dnaString2 = \"ACGTGGTGAATATATATGCGCGCGTGCGTGGACGTACGTACGTACGTATCAGTCAGCTGAC\"\n",
    "val record1 = NucSeqRecord(NucSeq(dnaString), \"Sequence 1\", description = \"The first sequence\",\n",
    "                annotations = mapOf(\"key1\" to \"value1\"))\n",
    "val record2 = NucSeqRecord(NucSeq(dnaString2), \"Sequence 2\", description = \"The second sequence\",\n",
    "                annotations = mapOf(\"key1\" to \"value1\"))\n",
    "\n",
    "var range1 = SeqPositionRanges.of(record1,8..28)\n",
    "var range2 = SeqPositionRanges.of(record2,3..19)\n",
    "var range3 = SeqPositionRanges.of(SeqPosition(record1, 27),SeqPosition(record1,40))\n",
    "var range4 = record2.range(25..40)\n",
    "\n"
   ]
  },
  {
   "cell_type": "code",
   "execution_count": null,
   "metadata": {},
   "outputs": [],
   "source": [
    "// create a list of ranges\n",
    "var srangeList = mutableListOf<SRange>()\n",
    "srangeList.add(range1)\n",
    "srangeList.add(range4)\n",
    "srangeList.add(range3)\n",
    "srangeList.add(range2)\n",
    "\n",
    "println(\"\\nRanges in the List are:\")\n",
    "for(range in srangeList) {\n",
    "    println(range.toString())\n",
    "}"
   ]
  },
  {
   "cell_type": "code",
   "execution_count": null,
   "metadata": {},
   "outputs": [],
   "source": [
    "// Create a set of non-merged ranges\n",
    "val comparator: Comparator<SRange> = SeqRangeSort.by(SeqRangeSort.numberThenAlphaSort,leftEdge)\n",
    "val nonCoalsedSet = nonCoalescingSetOf(comparator, srangeList)\n",
    "\n",
    "println(\"\\nThe noncoalsedSet has these values:\")\n",
    "for (range in nonCoalsedSet) {\n",
    "    println(range.toString())\n",
    "}"
   ]
  },
  {
   "cell_type": "code",
   "execution_count": null,
   "metadata": {},
   "outputs": [],
   "source": [
    "// Create set, merge the ranges\n",
    "val coalesedSet = coalescingSetOf(comparator,srangeList)\n",
    "\n",
    "println(\"\\nthe coalsedSet has these values:\")\n",
    "for (range in coalesedSet) {\n",
    "    println(range.toString())\n",
    "}\n"
   ]
  },
  {
   "cell_type": "markdown",
   "metadata": {},
   "source": [
    "## Reading BedFiles as SRanges\n",
    "\n",
    "Given a fasta file with sequence, and a bedfile with entries relative to the given fasta, Biokotlin can create an SRange Set.  To this set, the SRange functions may be applied, and Krangl may be used to display the results in DataFrame format.\n"
   ]
  },
  {
   "cell_type": "code",
   "execution_count": null,
   "metadata": {},
   "outputs": [],
   "source": [
    "// read fasta and bed file - create SRange Set\n",
    "\n",
    "import biokotlin.genome.*\n",
    "\n",
    "val fasta = \"../src/test/kotlin/biokotlin/genome/chr9chr10short.fa\"\n",
    "val bedFile = \"../src/test/kotlin/biokotlin/genome/chr9chr10_SHORTwithOverlaps.bed\"\n",
    "var srangeSet = bedfileToSRangeSet(bedFile,fasta)\n",
    "println(\"Size of srangeSet: ${srangeSet.size}\")"
   ]
  },
  {
   "cell_type": "code",
   "execution_count": null,
   "metadata": {},
   "outputs": [],
   "source": [
    "%use krangl\n",
    "// read into a Krangl frame, print the data\n",
    "var df:DataFrame = srangeSet.toDataFrame()\n",
    "df.print()"
   ]
  },
  {
   "cell_type": "markdown",
   "metadata": {},
   "source": [
    "## Intersections on Individual Ranges from the Bed File\n",
    "\n",
    "We saw intersecting on sets above.  The cells below show intersecting on an individual range.\n",
    "\n"
   ]
  },
  {
   "cell_type": "code",
   "execution_count": null,
   "metadata": {},
   "outputs": [],
   "source": [
    "// Define a target range, detemine which ranges overlap this range\n",
    "// We need to use a SeqRecord that exists in the SRangeSet we are checking for overlaps\n",
    "// We create that by pulling the existing record\n",
    "val seqRecT = srangeSet.elementAt(0).start.seqRecord\n",
    "\n",
    "// Create the range:  here is is a single position (which could be a SNP)\n",
    "val targetRange = SeqPosition(seqRecT,220)..SeqPosition(seqRecT,220)\n",
    "\n",
    "// Now find ranges in our set which intersect with this position\n",
    "// \n",
    "\n",
    "val targetIntersections = targetRange.intersectingRanges(srangeSet)\n",
    "println(targetIntersections)\n",
    "println()\n",
    "\n",
    "// print result as dataframe\n",
    "var tdf:DataFrame = targetIntersections.toDataFrame()\n",
    "tdf.print()"
   ]
  },
  {
   "cell_type": "code",
   "execution_count": null,
   "metadata": {},
   "outputs": [],
   "source": [
    "// Intersect a multiple position range\n",
    "val targetRange2 = SeqPosition(seqRecT,70)..SeqPosition(seqRecT,200)\n",
    "println(\"targeRange2: $targetRange2\")\n",
    "println()\n",
    "println(\"srangeSet: $srangeSet\")\n",
    "\n",
    "val targetIntersections2 = targetRange2.intersectingRanges(srangeSet)\n",
    "println(targetIntersections2)\n",
    "println(\"intersections: $targetIntersections2\")\n",
    "\n",
    "// print result as dataframe\n",
    "var tdf:DataFrame = targetIntersections2.toDataFrame()\n",
    "tdf.print()"
   ]
  }
 ],
 "metadata": {
  "kernelspec": {
   "display_name": "Kotlin",
   "language": "kotlin",
   "name": "kotlin"
  },
  "language_info": {
   "codemirror_mode": "text/x-kotlin",
   "file_extension": ".kt",
   "mimetype": "text/x-kotlin",
   "name": "kotlin",
   "nbconvert_exporter": "",
   "pygments_lexer": "kotlin",
   "version": "1.6.0-dev-3567"
  }
 },
 "nbformat": 4,
 "nbformat_minor": 4
}
