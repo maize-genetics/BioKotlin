{
 "cells": [
  {
   "cell_type": "markdown",
   "metadata": {},
   "source": [
    "Testing of BioKotlin Ranges"
   ]
  },
  {
   "cell_type": "code",
   "execution_count": 36,
   "metadata": {},
   "outputs": [],
   "source": [
    "//If this does not exist run from cmdline: ./gradlew shadowjar\n",
    "@file:DependsOn(\"../build/libs/biokotlin-0.01-all.jar\")"
   ]
  },
  {
   "cell_type": "code",
   "execution_count": 37,
   "metadata": {},
   "outputs": [],
   "source": [
    "import biokotlin.genome.*\n",
    "// import seq* as Ranges will use NucSeqRecord\n",
    "import biokotlin.seq.NUC.*\n",
    "import biokotlin.seq.*\n"
   ]
  },
  {
   "cell_type": "code",
   "execution_count": 38,
   "metadata": {
    "collapsed": false,
    "jupyter": {
     "outputs_hidden": false
    },
    "pycharm": {
     "name": "#%%\n"
    }
   },
   "outputs": [],
   "source": [
    "val seq = Seq(\"GCAGAT\")"
   ]
  },
  {
   "cell_type": "code",
   "execution_count": 47,
   "metadata": {},
   "outputs": [],
   "source": [
    "val rec1 = NucSeqRecord(NucSeq(\"ATAACACAGAGATATATC\"),\"1\")"
   ]
  },
  {
   "cell_type": "code",
   "execution_count": 49,
   "metadata": {},
   "outputs": [
    {
     "name": "stdout",
     "output_type": "stream",
     "text": [
      "TAACAC\n"
     ]
    }
   ],
   "source": [
    "// This creates a subset of the sequence in rec1 - just seq from positions 1 to 6\n",
    "// Note the array positions are 0-based, so this should pull TAACAC\n",
    "val subSettedSeq = rec1[1..6]"
   ]
  },
  {
   "cell_type": "code",
   "execution_count": 50,
   "metadata": {},
   "outputs": [],
   "source": [
    "// create a Sequence Range (SRange) object\n",
    "val sRange = rec1.range(8..12)"
   ]
  },
  {
   "cell_type": "code",
   "execution_count": 51,
   "metadata": {},
   "outputs": [
    {
     "name": "stdout",
     "output_type": "stream",
     "text": [
      "1:8..1:12\n"
     ]
    }
   ],
   "source": [
    "println(sRange.toString())"
   ]
  },
  {
   "cell_type": "code",
   "execution_count": 52,
   "metadata": {},
   "outputs": [],
   "source": [
    "val sRangeFlanked = sRange.flankBoth(5)"
   ]
  },
  {
   "cell_type": "code",
   "execution_count": 53,
   "metadata": {},
   "outputs": [
    {
     "name": "stdout",
     "output_type": "stream",
     "text": [
      "[1:3..1:7, 1:13..1:17]\n"
     ]
    }
   ],
   "source": [
    "println(sRangeFlanked)"
   ]
  },
  {
   "cell_type": "code",
   "execution_count": 54,
   "metadata": {},
   "outputs": [],
   "source": [
    "val sRangeFlankRight = sRange.flankRight(5)"
   ]
  },
  {
   "cell_type": "code",
   "execution_count": 55,
   "metadata": {},
   "outputs": [
    {
     "name": "stdout",
     "output_type": "stream",
     "text": [
      "1:13..1:17\n"
     ]
    }
   ],
   "source": [
    "println(sRangeFlankRight)"
   ]
  },
  {
   "cell_type": "code",
   "execution_count": 33,
   "metadata": {},
   "outputs": [
    {
     "name": "stderr",
     "output_type": "stream",
     "text": [
      "java.lang.NoClassDefFoundError: com/google/common/collect/Iterables\n",
      "com.google.common.collect.ImmutableMap.copyOf(ImmutableMap.java:453)\n",
      "com.google.common.collect.ImmutableMap.copyOf(ImmutableMap.java:438)\n",
      "biokotlin.seq.SeqRecordKt.NucSeqRecord(SeqRecord.kt:59)\n",
      "biokotlin.seq.SeqRecordKt.NucSeqRecord$default(SeqRecord.kt:57)\n",
      "Line_33_jupyter.<init>(Unknown Source)\n",
      "java.base/jdk.internal.reflect.NativeConstructorAccessorImpl.newInstance0(Native Method)\n",
      "java.base/jdk.internal.reflect.NativeConstructorAccessorImpl.newInstance(NativeConstructorAccessorImpl.java:62)\n",
      "java.base/jdk.internal.reflect.DelegatingConstructorAccessorImpl.newInstance(DelegatingConstructorAccessorImpl.java:45)\n",
      "java.base/java.lang.reflect.Constructor.newInstance(Constructor.java:490)\n",
      "kotlin.script.experimental.jvm.BasicJvmScriptEvaluator.evalWithConfigAndOtherScriptsResults(BasicJvmScriptEvaluator.kt:96)\n",
      "kotlin.script.experimental.jvm.BasicJvmScriptEvaluator.invoke$suspendImpl(BasicJvmScriptEvaluator.kt:41)\n",
      "kotlin.script.experimental.jvm.BasicJvmScriptEvaluator.invoke(BasicJvmScriptEvaluator.kt)\n",
      "kotlin.script.experimental.jvm.BasicJvmReplEvaluator.eval(BasicJvmReplEvaluator.kt:51)\n",
      "org.jetbrains.kotlin.jupyter.ReplForJupyterImpl$doEval$resultWithDiagnostics$1.invokeSuspend(repl.kt:475)\n",
      "kotlin.coroutines.jvm.internal.BaseContinuationImpl.resumeWith(ContinuationImpl.kt:33)\n",
      "kotlinx.coroutines.DispatchedTask.run(Dispatched.kt:238)\n",
      "kotlinx.coroutines.EventLoopImplBase.processNextEvent(EventLoop.kt:116)\n",
      "kotlinx.coroutines.BlockingCoroutine.joinBlocking(Builders.kt:80)\n",
      "kotlinx.coroutines.BuildersKt__BuildersKt.runBlocking(Builders.kt:54)\n",
      "kotlinx.coroutines.BuildersKt.runBlocking(Unknown Source)\n",
      "kotlinx.coroutines.BuildersKt__BuildersKt.runBlocking$default(Builders.kt:36)\n",
      "kotlinx.coroutines.BuildersKt.runBlocking$default(Unknown Source)\n",
      "org.jetbrains.kotlin.jupyter.ReplForJupyterImpl.doEval(repl.kt:475)\n",
      "org.jetbrains.kotlin.jupyter.ReplForJupyterImpl.eval(repl.kt:345)\n",
      "org.jetbrains.kotlin.jupyter.ProtocolKt$shellMessagesHandler$res$1.invoke(protocol.kt:143)\n",
      "org.jetbrains.kotlin.jupyter.ProtocolKt$shellMessagesHandler$res$1.invoke(protocol.kt)\n",
      "org.jetbrains.kotlin.jupyter.ProtocolKt.evalWithIO(protocol.kt:356)\n",
      "org.jetbrains.kotlin.jupyter.ProtocolKt.shellMessagesHandler(protocol.kt:142)\n",
      "org.jetbrains.kotlin.jupyter.IkotlinKt.kernelServer(ikotlin.kt:104)\n",
      "org.jetbrains.kotlin.jupyter.IkotlinKt.main(ikotlin.kt:59)\n"
     ]
    }
   ],
   "source": [
    "val dnaString = \"ACGTGGTGAATATATATGCGCGCGTGCGTGGATCAGTCAGTCATGCATGCATGTGTGTACACACATGTGATCGTAGCTAGCTAGCTGACTGACTAGCTGAC\"\n",
    "val dnaString2 = \"ACGTGGTGAATATATATGCGCGCGTGCGTGGACGTACGTACGTACGTATCAGTCAGCTGAC\"\n",
    "val record1 = NucSeqRecord(NucSeq(dnaString), \"Sequence 1\", description = \"The first sequence\",\n",
    "                annotations = mapOf(\"key1\" to \"value1\"))\n",
    "val record2 = NucSeqRecord(NucSeq(dnaString2), \"Sequence 2\", description = \"The second sequence\",\n",
    "                annotations = mapOf(\"key1\" to \"value1\"))\n",
    "\n",
    "var range1 = SeqPositionRanges.of(record1,8..28)\n",
    "var range2 = SeqPositionRanges.of(record2,3..19)\n",
    "var range3 = SeqPositionRanges.of(SeqPosition(record1, 32),SeqPosition(record1,40))\n",
    "var range4 = record2.range(25..40)\n",
    "\n",
    "// is there a way to default to this setOf without typing entire class?\n",
    "// the setOf in genome.Ranges is a java Navigable set, which does the sorting\n",
    "var setRanges = overlappingSetOf(SeqPositionRangeComparator.sprComparator,range1, range4, range3, range2)"
   ]
  },
  {
   "cell_type": "code",
   "execution_count": 33,
   "metadata": {
    "jupyter": {
     "source_hidden": true
    }
   },
   "outputs": [
    {
     "name": "stdout",
     "output_type": "stream",
     "text": [
      "[SeqPosition(seqRecord=ID: Sequence 1\n",
      "Description: The first sequence\n",
      "key1: value1\n",
      "Sequence: ACGTGGTGAATATATATGCGCGCGTGCGTGGATCAGTCAGTCATGCATGCATGTGTGTACACACATGTGATCGTAGCTAGCTAGCTGACTGACTAGCTGAC\n",
      ", site=8, comparator=biokotlin.genome.SeqPositionAlphaComparator@55b84b18)..SeqPosition(seqRecord=ID: Sequence 1\n",
      "Description: The first sequence\n",
      "key1: value1\n",
      "Sequence: ACGTGGTGAATATATATGCGCGCGTGCGTGGATCAGTCAGTCATGCATGCATGTGTGTACACACATGTGATCGTAGCTAGCTAGCTGACTGACTAGCTGAC\n",
      ", site=28, comparator=biokotlin.genome.SeqPositionAlphaComparator@55b84b18)]\n",
      "\n",
      "[SeqPosition(seqRecord=ID: Sequence 1\n",
      "Description: The first sequence\n",
      "key1: value1\n",
      "Sequence: ACGTGGTGAATATATATGCGCGCGTGCGTGGATCAGTCAGTCATGCATGCATGTGTGTACACACATGTGATCGTAGCTAGCTAGCTGACTGACTAGCTGAC\n",
      ", site=32, comparator=biokotlin.genome.SeqPositionAlphaComparator@55b84b18)..SeqPosition(seqRecord=ID: Sequence 1\n",
      "Description: The first sequence\n",
      "key1: value1\n",
      "Sequence: ACGTGGTGAATATATATGCGCGCGTGCGTGGATCAGTCAGTCATGCATGCATGTGTGTACACACATGTGATCGTAGCTAGCTAGCTGACTGACTAGCTGAC\n",
      ", site=40, comparator=biokotlin.genome.SeqPositionAlphaComparator@55b84b18)]\n",
      "\n",
      "[SeqPosition(seqRecord=ID: Sequence 2\n",
      "Description: The second sequence\n",
      "key1: value1\n",
      "Sequence: ACGTGGTGAATATATATGCGCGCGTGCGTGGACGTACGTACGTACGTATCAGTCAGCTGAC\n",
      ", site=3, comparator=biokotlin.genome.SeqPositionAlphaComparator@55b84b18)..SeqPosition(seqRecord=ID: Sequence 2\n",
      "Description: The second sequence\n",
      "key1: value1\n",
      "Sequence: ACGTGGTGAATATATATGCGCGCGTGCGTGGACGTACGTACGTACGTATCAGTCAGCTGAC\n",
      ", site=19, comparator=biokotlin.genome.SeqPositionAlphaComparator@55b84b18)]\n",
      "\n",
      "[SeqPosition(seqRecord=ID: Sequence 2\n",
      "Description: The second sequence\n",
      "key1: value1\n",
      "Sequence: ACGTGGTGAATATATATGCGCGCGTGCGTGGACGTACGTACGTACGTATCAGTCAGCTGAC\n",
      ", site=25, comparator=biokotlin.genome.SeqPositionAlphaComparator@55b84b18)..SeqPosition(seqRecord=ID: Sequence 2\n",
      "Description: The second sequence\n",
      "key1: value1\n",
      "Sequence: ACGTGGTGAATATATATGCGCGCGTGCGTGGACGTACGTACGTACGTATCAGTCAGCTGAC\n",
      ", site=40, comparator=biokotlin.genome.SeqPositionAlphaComparator@55b84b18)]\n",
      "\n"
     ]
    }
   ],
   "source": [
    "for (range in setRanges) {\n",
    "    println(range.toString())\n",
    "    println()\n",
    "}"
   ]
  },
  {
   "cell_type": "code",
   "execution_count": 29,
   "metadata": {
    "collapsed": false,
    "jupyter": {
     "outputs_hidden": false
    },
    "pycharm": {
     "name": "#%%\n"
    }
   },
   "outputs": [],
   "source": [
    "// if a Java/Kotlin non-sorted set were used above, this would sort the set by seqRecord, then lowerEndpoint site\n",
    "var setRangesSorted = setRanges.toSortedSet(SeqPositionRangeComparator.sprComparator)\n"
   ]
  },
  {
   "cell_type": "code",
   "execution_count": 30,
   "metadata": {
    "collapsed": false,
    "jupyter": {
     "outputs_hidden": false
    },
    "pycharm": {
     "name": "#%%\n"
    }
   },
   "outputs": [
    {
     "name": "stdout",
     "output_type": "stream",
     "text": [
      "[SeqPosition(seqRecord=ID: Sequence 1\n",
      "Description: The first sequence\n",
      "key1: value1\n",
      "Sequence: ACGTGGTGAATATATATGCGCGCGTGCGTGGATCAGTCAGTCATGCATGCATGTGTGTACACACATGTGATCGTAGCTAGCTAGCTGACTGACTAGCTGAC\n",
      ", site=8, comparator=biokotlin.genome.SeqPositionAlphaComparator@55b84b18)..SeqPosition(seqRecord=ID: Sequence 1\n",
      "Description: The first sequence\n",
      "key1: value1\n",
      "Sequence: ACGTGGTGAATATATATGCGCGCGTGCGTGGATCAGTCAGTCATGCATGCATGTGTGTACACACATGTGATCGTAGCTAGCTAGCTGACTGACTAGCTGAC\n",
      ", site=28, comparator=biokotlin.genome.SeqPositionAlphaComparator@55b84b18)]\n",
      "\n",
      "[SeqPosition(seqRecord=ID: Sequence 1\n",
      "Description: The first sequence\n",
      "key1: value1\n",
      "Sequence: ACGTGGTGAATATATATGCGCGCGTGCGTGGATCAGTCAGTCATGCATGCATGTGTGTACACACATGTGATCGTAGCTAGCTAGCTGACTGACTAGCTGAC\n",
      ", site=32, comparator=biokotlin.genome.SeqPositionAlphaComparator@55b84b18)..SeqPosition(seqRecord=ID: Sequence 1\n",
      "Description: The first sequence\n",
      "key1: value1\n",
      "Sequence: ACGTGGTGAATATATATGCGCGCGTGCGTGGATCAGTCAGTCATGCATGCATGTGTGTACACACATGTGATCGTAGCTAGCTAGCTGACTGACTAGCTGAC\n",
      ", site=40, comparator=biokotlin.genome.SeqPositionAlphaComparator@55b84b18)]\n",
      "\n",
      "[SeqPosition(seqRecord=ID: Sequence 2\n",
      "Description: The second sequence\n",
      "key1: value1\n",
      "Sequence: ACGTGGTGAATATATATGCGCGCGTGCGTGGACGTACGTACGTACGTATCAGTCAGCTGAC\n",
      ", site=3, comparator=biokotlin.genome.SeqPositionAlphaComparator@55b84b18)..SeqPosition(seqRecord=ID: Sequence 2\n",
      "Description: The second sequence\n",
      "key1: value1\n",
      "Sequence: ACGTGGTGAATATATATGCGCGCGTGCGTGGACGTACGTACGTACGTATCAGTCAGCTGAC\n",
      ", site=19, comparator=biokotlin.genome.SeqPositionAlphaComparator@55b84b18)]\n",
      "\n",
      "[SeqPosition(seqRecord=ID: Sequence 2\n",
      "Description: The second sequence\n",
      "key1: value1\n",
      "Sequence: ACGTGGTGAATATATATGCGCGCGTGCGTGGACGTACGTACGTACGTATCAGTCAGCTGAC\n",
      ", site=25, comparator=biokotlin.genome.SeqPositionAlphaComparator@55b84b18)..SeqPosition(seqRecord=ID: Sequence 2\n",
      "Description: The second sequence\n",
      "key1: value1\n",
      "Sequence: ACGTGGTGAATATATATGCGCGCGTGCGTGGACGTACGTACGTACGTATCAGTCAGCTGAC\n",
      ", site=40, comparator=biokotlin.genome.SeqPositionAlphaComparator@55b84b18)]\n",
      "\n"
     ]
    }
   ],
   "source": [
    "for (range in setRangesSorted) {\n",
    "    println(range.toString())\n",
    "    println()\n",
    "}"
   ]
  },
  {
   "cell_type": "code",
   "execution_count": 14,
   "metadata": {},
   "outputs": [],
   "source": []
  },
  {
   "cell_type": "code",
   "execution_count": 15,
   "metadata": {},
   "outputs": [
    {
     "name": "stdout",
     "output_type": "stream",
     "text": [
      "[SeqPosition(seqRecord=ID: Sequence 1\n",
      "Description: The first sequence\n",
      "key1: value1\n",
      "Sequence: ACGTGGTGAATATATATGCGCGCGTGCGTGGATCAGTCAGTCATGCATGCATGTGTGTACACACATGTGATCGTAGCTAGCTAGCTGACTGACTAGCTGAC\n",
      ", site=8, comparator=biokotlin.genome.SeqPositionAlphaComparator@55b84b18)..SeqPosition(seqRecord=ID: Sequence 1\n",
      "Description: The first sequence\n",
      "key1: value1\n",
      "Sequence: ACGTGGTGAATATATATGCGCGCGTGCGTGGATCAGTCAGTCATGCATGCATGTGTGTACACACATGTGATCGTAGCTAGCTAGCTGACTGACTAGCTGAC\n",
      ", site=28, comparator=biokotlin.genome.SeqPositionAlphaComparator@55b84b18)]\n",
      "\n",
      "[SeqPosition(seqRecord=ID: Sequence 1\n",
      "Description: The first sequence\n",
      "key1: value1\n",
      "Sequence: ACGTGGTGAATATATATGCGCGCGTGCGTGGATCAGTCAGTCATGCATGCATGTGTGTACACACATGTGATCGTAGCTAGCTAGCTGACTGACTAGCTGAC\n",
      ", site=32, comparator=biokotlin.genome.SeqPositionAlphaComparator@55b84b18)..SeqPosition(seqRecord=ID: Sequence 1\n",
      "Description: The first sequence\n",
      "key1: value1\n",
      "Sequence: ACGTGGTGAATATATATGCGCGCGTGCGTGGATCAGTCAGTCATGCATGCATGTGTGTACACACATGTGATCGTAGCTAGCTAGCTGACTGACTAGCTGAC\n",
      ", site=40, comparator=biokotlin.genome.SeqPositionAlphaComparator@55b84b18)]\n",
      "\n",
      "[SeqPosition(seqRecord=ID: Sequence 2\n",
      "Description: The second sequence\n",
      "key1: value1\n",
      "Sequence: ACGTGGTGAATATATATGCGCGCGTGCGTGGACGTACGTACGTACGTATCAGTCAGCTGAC\n",
      ", site=3, comparator=biokotlin.genome.SeqPositionAlphaComparator@55b84b18)..SeqPosition(seqRecord=ID: Sequence 2\n",
      "Description: The second sequence\n",
      "key1: value1\n",
      "Sequence: ACGTGGTGAATATATATGCGCGCGTGCGTGGACGTACGTACGTACGTATCAGTCAGCTGAC\n",
      ", site=19, comparator=biokotlin.genome.SeqPositionAlphaComparator@55b84b18)]\n",
      "\n",
      "[SeqPosition(seqRecord=ID: Sequence 2\n",
      "Description: The second sequence\n",
      "key1: value1\n",
      "Sequence: ACGTGGTGAATATATATGCGCGCGTGCGTGGACGTACGTACGTACGTATCAGTCAGCTGAC\n",
      ", site=25, comparator=biokotlin.genome.SeqPositionAlphaComparator@55b84b18)..SeqPosition(seqRecord=ID: Sequence 2\n",
      "Description: The second sequence\n",
      "key1: value1\n",
      "Sequence: ACGTGGTGAATATATATGCGCGCGTGCGTGGACGTACGTACGTACGTATCAGTCAGCTGAC\n",
      ", site=40, comparator=biokotlin.genome.SeqPositionAlphaComparator@55b84b18)]\n",
      "\n"
     ]
    }
   ],
   "source": []
  },
  {
   "cell_type": "code",
   "execution_count": null,
   "metadata": {},
   "outputs": [],
   "source": []
  }
 ],
 "metadata": {
  "kernelspec": {
   "display_name": "Kotlin",
   "language": "kotlin",
   "name": "kotlin"
  },
  "language_info": {
   "codemirror_mode": "text/x-kotlin",
   "file_extension": ".kt",
   "mimetype": "text/x-kotlin",
   "name": "kotlin",
   "pygments_lexer": "kotlin",
   "version": "1.4.0-dev-7568"
  },
  "pycharm": {
   "stem_cell": {
    "cell_type": "raw",
    "source": [],
    "metadata": {
     "collapsed": false
    }
   }
  }
 },
 "nbformat": 4,
 "nbformat_minor": 4
}