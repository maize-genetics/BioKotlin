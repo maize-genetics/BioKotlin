{
 "cells": [
  {
   "cell_type": "markdown",
   "metadata": {},
   "source": [
    "Testing of BioKotlin Ranges"
   ]
  },
  {
   "cell_type": "code",
   "execution_count": 1,
   "metadata": {},
   "outputs": [],
   "source": [
    "//If this does not exist run from cmdline: ./gradlew shadowjar\n",
    "@file:DependsOn(\"../build/libs/biokotlin-0.03-all.jar\")"
   ]
  },
  {
   "cell_type": "code",
   "execution_count": 13,
   "metadata": {},
   "outputs": [],
   "source": [
    "import biokotlin.genome.*\n",
    "// import seq* as Ranges will use NucSeqRecord\n",
    "import biokotlin.seq.NUC.*\n",
    "import biokotlin.seq.*\n",
    "import java.util.*\n"
   ]
  },
  {
   "cell_type": "code",
   "execution_count": 3,
   "metadata": {
    "collapsed": false,
    "jupyter": {
     "outputs_hidden": false
    },
    "pycharm": {
     "name": "#%%\n"
    }
   },
   "outputs": [],
   "source": [
    "val seq = Seq(\"GCAGAT\")"
   ]
  },
  {
   "cell_type": "code",
   "execution_count": 4,
   "metadata": {},
   "outputs": [],
   "source": [
    "val rec1 = NucSeqRecord(NucSeq(\"ATAACACAGAGATATATC\"),\"1\")"
   ]
  },
  {
   "cell_type": "code",
   "execution_count": 5,
   "metadata": {},
   "outputs": [],
   "source": [
    "// This creates a subset of the sequence in rec1 - just seq from positions 1 to 6\n",
    "// Note the array positions are 0-based, so this should pull TAACAC\n",
    "val subSettedSeq = rec1[1..6]"
   ]
  },
  {
   "cell_type": "code",
   "execution_count": 6,
   "metadata": {},
   "outputs": [],
   "source": [
    "// create a Sequence Range (SRange) object\n",
    "val sRange = rec1.range(8..12)"
   ]
  },
  {
   "cell_type": "code",
   "execution_count": 7,
   "metadata": {},
   "outputs": [
    {
     "name": "stdout",
     "output_type": "stream",
     "text": [
      "1:8..1:12\n"
     ]
    }
   ],
   "source": [
    "println(sRange)"
   ]
  },
  {
   "cell_type": "code",
   "execution_count": 8,
   "metadata": {},
   "outputs": [],
   "source": [
    "val sRangeFlanked = sRange.flankBoth(5)"
   ]
  },
  {
   "cell_type": "code",
   "execution_count": 9,
   "metadata": {},
   "outputs": [
    {
     "name": "stdout",
     "output_type": "stream",
     "text": [
      "[1:3..1:7, 1:13..1:17]\n"
     ]
    }
   ],
   "source": [
    "println(sRangeFlanked)"
   ]
  },
  {
   "cell_type": "code",
   "execution_count": 10,
   "metadata": {},
   "outputs": [],
   "source": [
    "val sRangeFlankRight = sRange.flankRight(5)"
   ]
  },
  {
   "cell_type": "code",
   "execution_count": 11,
   "metadata": {},
   "outputs": [
    {
     "name": "stdout",
     "output_type": "stream",
     "text": [
      "1:13..1:17\n"
     ]
    }
   ],
   "source": [
    "println(sRangeFlankRight)"
   ]
  },
  {
   "cell_type": "code",
   "execution_count": 32,
   "metadata": {},
   "outputs": [
    {
     "name": "stdout",
     "output_type": "stream",
     "text": [
      "\n",
      "Ranges in the List are:\n",
      "Sequence 1:8..Sequence 1:28\n",
      "Sequence 2:25..Sequence 2:40\n",
      "Sequence 1:27..Sequence 1:40\n",
      "Sequence 2:3..Sequence 2:19\n",
      "\n",
      "The noncoalsedSet has these values:\n",
      "Sequence 1:8..Sequence 1:28\n",
      "Sequence 1:27..Sequence 1:40\n",
      "Sequence 2:3..Sequence 2:19\n",
      "Sequence 2:25..Sequence 2:40\n",
      "\n",
      "the coalsedSet has these values:\n",
      "Sequence 1:8..Sequence 1:40\n",
      "Sequence 2:3..Sequence 2:19\n",
      "Sequence 2:25..Sequence 2:40\n"
     ]
    }
   ],
   "source": [
    "import kotlin.collections.*\n",
    "import biokotlin.genome.SeqRangeSort.leftEdge\n",
    "\n",
    "val dnaString = \"ACGTGGTGAATATATATGCGCGCGTGCGTGGATCAGTCAGTCATGCATGCATGTGTGTACACACATGTGATCGTAGCTAGCTAGCTGACTGACTAGCTGAC\"\n",
    "val dnaString2 = \"ACGTGGTGAATATATATGCGCGCGTGCGTGGACGTACGTACGTACGTATCAGTCAGCTGAC\"\n",
    "val record1 = NucSeqRecord(NucSeq(dnaString), \"Sequence 1\", description = \"The first sequence\",\n",
    "                annotations = mapOf(\"key1\" to \"value1\"))\n",
    "val record2 = NucSeqRecord(NucSeq(dnaString2), \"Sequence 2\", description = \"The second sequence\",\n",
    "                annotations = mapOf(\"key1\" to \"value1\"))\n",
    "\n",
    "var range1 = SeqPositionRanges.of(record1,8..28)\n",
    "var range2 = SeqPositionRanges.of(record2,3..19)\n",
    "var range3 = SeqPositionRanges.of(SeqPosition(record1, 27),SeqPosition(record1,40))\n",
    "var range4 = record2.range(25..40)\n",
    "\n",
    "// is there a way to default to this setOf without typing entire class?\n",
    "// the setOf in genome.Ranges is a java Navigable set, which does the sorting\n",
    "//var setRanges = overlappingSetOf(SeqPositionRangeComparator.sprComparator,range1, range4, range3, range2)\n",
    "\n",
    " var srangeList = mutableListOf<SRange>()\n",
    "srangeList.add(range1)\n",
    "srangeList.add(range4)\n",
    "srangeList.add(range3)\n",
    "srangeList.add(range2)\n",
    "\n",
    "println(\"\\nRanges in the List are:\")\n",
    "for(range in srangeList) {\n",
    "    println(range.toString())\n",
    "}\n",
    "\n",
    "// don't merge the ranges in the set\n",
    "val comparator: Comparator<SRange> = SeqRangeSort.by(SeqRangeSort.numberThenAlphaSort,leftEdge)\n",
    "val nonCoalsedSet = nonCoalescingSetOf(comparator, srangeList)\n",
    "\n",
    "println(\"\\nThe noncoalsedSet has these values:\")\n",
    "for (range in nonCoalsedSet) {\n",
    "    println(range.toString())\n",
    "}\n",
    "\n",
    "// merge the ranges in the set\n",
    "val coalesedSet = coalescingSetOf(comparator,srangeList)\n",
    "\n",
    "println(\"\\nthe coalsedSet has these values:\")\n",
    "for (range in coalesedSet) {\n",
    "    println(range.toString())\n",
    "}\n"
   ]
  },
  {
   "cell_type": "code",
   "execution_count": 34,
   "metadata": {
    "collapsed": false,
    "jupyter": {
     "outputs_hidden": false
    },
    "pycharm": {
     "name": "#%%\n"
    }
   },
   "outputs": [],
   "source": [
    "// if a Java/Kotlin non-sorted set were used above, this would sort the set by seqRecord, then lowerEndpoint site\n",
    "var setRangesSorted = nonCoalsedSet.toSortedSet(comparator)\n"
   ]
  },
  {
   "cell_type": "code",
   "execution_count": 35,
   "metadata": {
    "collapsed": false,
    "jupyter": {
     "outputs_hidden": false
    },
    "pycharm": {
     "name": "#%%\n"
    }
   },
   "outputs": [
    {
     "name": "stdout",
     "output_type": "stream",
     "text": [
      "Sequence 1:8..Sequence 1:28\n",
      "\n",
      "Sequence 1:27..Sequence 1:40\n",
      "\n",
      "Sequence 2:3..Sequence 2:19\n",
      "\n",
      "Sequence 2:25..Sequence 2:40\n",
      "\n"
     ]
    }
   ],
   "source": [
    "for (range in setRangesSorted) {\n",
    "    println(range.toString())\n",
    "    println()\n",
    "}"
   ]
  },
  {
   "cell_type": "code",
   "execution_count": 36,
   "metadata": {},
   "outputs": [
    {
     "name": "stdout",
     "output_type": "stream",
     "text": [
      "A DataFrame: 5 x 4\n",
      "      ID   end    range   start\n",
      "1   Seq1    15    1..15       1\n",
      "2   Seq1    44   27..44      27\n",
      "3   Seq2    13    3..13       3\n",
      "4   Seq2    35   25..35      25\n",
      "5   Seq3    33   18..33      18\n",
      "\n"
     ]
    }
   ],
   "source": [
    "%use krangl\n",
    "val dnaString = \"ACGTGGTGAATATATATGCGCGCGTGCGTGGATCAGTCAGTCATGCATGCATGTGTGTACACACATGTGATCGTAGCTAGCTAGCTGACTGACTAGCTGACCGTACGTACGTATCAGTCAGCTGACACGTGGTGAATATATATGCGCGCGTGCGTGGATCAGTCAGTCATGCATGCATGTGTGTACACA\"\n",
    "    val dnaString2 = \"ACGTGGTGAATATATATGCGCGCGTGCGTGGACGTACGTACGTACGTATCAGTCAGCTGAC\"\n",
    "    val dnaString3 = \"TCAGTGATGATGATGCACACACACACACGTAGCTAGCTGCTAGCTAGTGATACGTAGCAAAAAATTTTTT\"\n",
    "    val record1 = NucSeqRecord(NucSeq(dnaString), \"Seq1\")\n",
    "    val record2 = NucSeqRecord(NucSeq(dnaString2), \"Seq2\")\n",
    "    val record3 = NucSeqRecord(NucSeq(dnaString3), \"Seq3\")\n",
    "    val record4 = NucSeqRecord(NucSeq(dnaString2), \"Seq2-id2\")\n",
    "    val sr1 = record1.range(27..44)\n",
    "    val sr2 = record1.range(1..15)\n",
    "    val sr3 = record3.range(18..33)\n",
    "    val sr4 = record2.range(25..35)\n",
    "    val sr5 = record2.range(3..13)\n",
    "    val sr6 = record1.range(20..28)\n",
    "val srSet1 = nonCoalescingSetOf(SeqRangeSort.by(SeqRangeSort.numberThenAlphaSort, SeqRangeSort.leftEdge), sr1,sr2,sr3,sr5,sr4)\n",
    "var df:DataFrame = srSet1.toDataFrame()\n",
    "df.print()\n"
   ]
  },
  {
   "cell_type": "code",
   "execution_count": null,
   "metadata": {},
   "outputs": [],
   "source": []
  },
  {
   "cell_type": "code",
   "execution_count": null,
   "metadata": {},
   "outputs": [],
   "source": []
  }
 ],
 "metadata": {
  "kernelspec": {
   "display_name": "Kotlin",
   "language": "kotlin",
   "name": "kotlin"
  },
  "language_info": {
   "codemirror_mode": "kotlin",
   "file_extension": ".kt",
   "mimetype": "text/x-kotlin",
   "name": "kotlin",
   "nbconvert_exporter": "",
   "pygments_lexer": "kotlin",
   "version": "1.6.0-dev-1733"
  }
 },
 "nbformat": 4,
 "nbformat_minor": 4
}