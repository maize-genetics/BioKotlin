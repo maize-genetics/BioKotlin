{
 "cells": [
  {
   "cell_type": "markdown",
   "metadata": {},
   "source": [
    "Modeled from Tutorial Points\n",
    "https://www.tutorialspoint.com/biopython/biopython_sequence.htm\n",
    "\n",
    "A sequence is series of letters used to represent an organism’s protein, DNA or RNA. It is represented by Seq class. Seq class is defined in Bio.Seq module.\n",
    "\n",
    "Let’s create a simple sequence in Biopython as shown below −"
   ]
  },
  {
   "cell_type": "code",
   "execution_count": null,
   "metadata": {},
   "outputs": [],
   "source": [
    "@file:DependsOn(\"../build/libs/biokotlin-all.jar\")"
   ]
  },
  {
   "cell_type": "code",
   "execution_count": null,
   "metadata": {},
   "outputs": [],
   "source": [
    "import biokotlin.seq.*"
   ]
  },
  {
   "cell_type": "code",
   "execution_count": null,
   "metadata": {},
   "outputs": [],
   "source": [
    "val seq = Seq(\"GCAGAT\")"
   ]
  },
  {
   "cell_type": "code",
   "execution_count": null,
   "metadata": {},
   "outputs": [],
   "source": [
    "seq.complement()"
   ]
  },
  {
   "cell_type": "code",
   "execution_count": null,
   "metadata": {},
   "outputs": [],
   "source": [
    "seq.translate()"
   ]
  },
  {
   "cell_type": "code",
   "execution_count": null,
   "metadata": {},
   "outputs": [],
   "source": [
    "seq.transcribe()"
   ]
  },
  {
   "cell_type": "code",
   "execution_count": null,
   "metadata": {},
   "outputs": [],
   "source": [
    "val proseq = ProteinSeq(\"GCAGAT\")"
   ]
  },
  {
   "cell_type": "code",
   "execution_count": null,
   "metadata": {},
   "outputs": [],
   "source": [
    "val gCount = proseq.count(AminoAcid.G)"
   ]
  },
  {
   "cell_type": "code",
   "execution_count": null,
   "metadata": {},
   "outputs": [],
   "source": [
    "import biokotlin.seq.*\n",
    "val seq = Seq(\"GCAGAT\")\n",
    "seq.complement()\n",
    "seq.translate()\n",
    "seq.transcribe()\n",
    "val proseq = ProteinSeq(\"GCAGAT\")\n",
    "val gCount = proseq.count(AminoAcid.G)"
   ]
  },
  {
   "cell_type": "code",
   "execution_count": null,
   "metadata": {},
   "outputs": [],
   "source": [
    "println(\"${AminoAcid.G.name3letter} count is $gCount\")"
   ]
  },
  {
   "cell_type": "code",
   "execution_count": null,
   "metadata": {},
   "outputs": [],
   "source": [
    "seq + proseq"
   ]
  },
  {
   "cell_type": "code",
   "execution_count": null,
   "metadata": {},
   "outputs": [],
   "source": [
    "val bigSeq = seq * 1000000\n",
    "bigSeq.count(Seq(\"TGC\"))"
   ]
  },
  {
   "cell_type": "code",
   "execution_count": null,
   "metadata": {},
   "outputs": [],
   "source": [
    "//Count reverse complement\n",
    "val startTime = System.currentTimeMillis()\n",
    "val palSeq = Seq(\"GATATCC\") * 10_000_000\n",
    "var count = 0\n",
    "for(i in 0..(palSeq.len()-7)) {\n",
    "    val site = palSeq[i..(i+5)]\n",
    "   // println(\"$site rev ${site.reverse_complement()}\")\n",
    "    if (site == site.reverse_complement()) count++\n",
    "}\n",
    "println(count)\n",
    "println(\"TotalTime ${System.currentTimeMillis()-startTime}ms\")"
   ]
  },
  {
   "cell_type": "code",
   "execution_count": null,
   "metadata": {},
   "outputs": [],
   "source": [
    "val startTime = System.currentTimeMillis()\n",
    "val palSeq = Seq(\"GATATCC\") * 100_000_000\n",
    "val pro = palSeq.translate()\n",
    "println(pro[0..3])\n",
    "println(\"TotalTime ${System.currentTimeMillis()-startTime}ms\")"
   ]
  },
  {
   "cell_type": "code",
   "execution_count": null,
   "metadata": {},
   "outputs": [],
   "source": []
  }
 ],
 "metadata": {
  "kernelspec": {
   "display_name": "Kotlin",
   "language": "kotlin",
   "name": "kotlin"
  },
  "language_info": {
   "codemirror_mode": "text/x-kotlin",
   "file_extension": ".kt",
   "mimetype": "text/x-kotlin",
   "name": "kotlin",
   "pygments_lexer": "kotlin",
   "version": "1.4.0-dev-7568"
  }
 },
 "nbformat": 4,
 "nbformat_minor": 4
}
