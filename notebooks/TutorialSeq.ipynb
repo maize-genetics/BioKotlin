{
 "cells": [
  {
   "cell_type": "markdown",
   "metadata": {},
   "source": [
    "## Biokotlin Basic Tutorial\n",
    "Modeled from Tutorial Points\n",
    "https://www.tutorialspoint.com/biopython/biopython_sequence.htm\n",
    "\n",
    "A sequence is series of letters used to represent an organism’s protein, DNA or RNA. It is represented by Seq class. Seq class is defined in Bio.Seq module.\n",
    "\n",
    "Let’s create a simple sequence in Biopython as shown below −"
   ]
  },
  {
   "cell_type": "code",
   "execution_count": null,
   "metadata": {},
   "outputs": [],
   "source": [
    "// This file is needed to pull in the biokotlin code\n",
    "// THis is old code - pull from repository instead\n",
    "//If this does not exist run from cmdline: ./gradlew shadowjar\n",
    "//@file:DependsOn(\"../biokotlin-0.03-all.jar\")\n",
    "@file:Repository(\"https://jcenter.bintray.com/\")\n",
    "@file:DependsOn(\"org.biokotlin:biokotlin:0.03\")"
   ]
  },
  {
   "cell_type": "code",
   "execution_count": null,
   "metadata": {},
   "outputs": [],
   "source": [
    "import biokotlin.seq.*"
   ]
  },
  {
   "cell_type": "code",
   "execution_count": null,
   "metadata": {},
   "outputs": [],
   "source": [
    "val seq = Seq(\"GCAGAT\")"
   ]
  },
  {
   "cell_type": "code",
   "execution_count": null,
   "metadata": {},
   "outputs": [],
   "source": [
    "seq.complement()"
   ]
  },
  {
   "cell_type": "code",
   "execution_count": null,
   "metadata": {},
   "outputs": [],
   "source": [
    "// This line will print both the codon table ID (default = 1) and the translated sequence\n",
    "seq.translate()"
   ]
  },
  {
   "cell_type": "code",
   "execution_count": null,
   "metadata": {},
   "outputs": [],
   "source": [
    "seq.transcribe()"
   ]
  },
  {
   "cell_type": "code",
   "execution_count": null,
   "metadata": {},
   "outputs": [],
   "source": [
    "// Define a protein sequence\n",
    "val proseq = ProteinSeq(\"GCAGAT\")"
   ]
  },
  {
   "cell_type": "code",
   "execution_count": null,
   "metadata": {},
   "outputs": [],
   "source": [
    "// count the number of Glysine in this sequence\n",
    "val gCount = proseq.count(AminoAcid.G)"
   ]
  },
  {
   "cell_type": "code",
   "execution_count": null,
   "metadata": {},
   "outputs": [],
   "source": [
    "// Put the above together in a code-snippet\n",
    "import biokotlin.seq.*\n",
    "val seq = Seq(\"GCAGAT\")\n",
    "seq.complement()\n",
    "seq.translate()\n",
    "seq.transcribe()\n",
    "val proseq = ProteinSeq(\"GCAGAT\")\n",
    "val gCount = proseq.count(AminoAcid.G)"
   ]
  },
  {
   "cell_type": "code",
   "execution_count": null,
   "metadata": {},
   "outputs": [],
   "source": [
    "// print the value of AminoAcid.G 3 letter name, and the number of times \n",
    "// Glysine appears in the defined Protein sequence\n",
    "println(\"${AminoAcid.G.name3letter} count is $gCount\")"
   ]
  },
  {
   "cell_type": "code",
   "execution_count": null,
   "metadata": {},
   "outputs": [],
   "source": [
    "val proseq2 = ProteinSeq(\"RMFGVE\")\n",
    "proseq2 + proseq"
   ]
  },
  {
   "cell_type": "code",
   "execution_count": null,
   "metadata": {},
   "outputs": [],
   "source": [
    "// Example:  Transcribe DNA to RNA\n",
    "val dna = NucSeq(\"GCTA\")  //inferred DNA\n",
    "val rna = NucSeq(\"GCUA\")  //inferred RNA\n",
    "val rnaSpecified = NucSeq(\"GCACCCCC\", NUC.RNA)\n",
    "\n",
    "println(dna.transcribe() == rna)  // should print \"true\"\n",
    "println(dna) // should be GCTA\n",
    "println(dna.repr()) // should be NucSeqByte('GCTA',[A,C,G,T])"
   ]
  },
  {
   "cell_type": "code",
   "execution_count": null,
   "metadata": {},
   "outputs": [],
   "source": [
    "val bigSeq = seq * 1000000\n",
    "bigSeq.count(Seq(\"TGC\"))"
   ]
  },
  {
   "cell_type": "code",
   "execution_count": null,
   "metadata": {},
   "outputs": [],
   "source": [
    "//Count reverse complement\n",
    "val startTime = System.currentTimeMillis()\n",
    "val palSeq = Seq(\"GATATCC\") * 10_000_000\n",
    "var totalCount = 0\n",
    "var count = 0\n",
    "for(i in 0..(palSeq.size()-7)) {\n",
    "    totalCount++\n",
    "    val site = palSeq[i..(i+5)]\n",
    "   // println(\"$site rev ${site.reverse_complement()}\")\n",
    "    if (site == site.reverse_complement()) count++\n",
    "}\n",
    "println(\"count=$count, totalCount=$totalCount\")\n",
    "println(\"TotalTime ${System.currentTimeMillis()-startTime}ms\")"
   ]
  },
  {
   "cell_type": "markdown",
   "metadata": {},
   "source": [
    "Perform DNA translation"
   ]
  },
  {
   "cell_type": "code",
   "execution_count": null,
   "metadata": {},
   "outputs": [],
   "source": [
    "val startTime = System.currentTimeMillis()\n",
    "val palSeq = Seq(\"GATATCC\") * 100_000_000\n",
    "val pro = palSeq.translate()\n",
    "println(pro[0..3]) // performs a substring, \"end\" is exclusive, so only 3 printed (Protein bug - should be inclusive)\n",
    "println(\"TotalTime ${System.currentTimeMillis()-startTime}ms\")"
   ]
  }
 ],
 "metadata": {
  "kernelspec": {
   "display_name": "Kotlin",
   "language": "kotlin",
   "name": "kotlin"
  },
  "language_info": {
   "codemirror_mode": "kotlin",
   "file_extension": ".kt",
   "mimetype": "text/x-kotlin",
   "name": "kotlin",
   "nbconvert_exporter": "",
   "pygments_lexer": "kotlin",
   "version": "1.6.0-dev-1733"
  }
 },
 "nbformat": 4,
 "nbformat_minor": 4
}