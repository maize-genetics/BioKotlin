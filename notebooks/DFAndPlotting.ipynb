{
 "cells": [
  {
   "cell_type": "code",
   "execution_count": null,
   "id": "ef85b2d2-455d-4fb3-b6c5-2c12cc870629",
   "metadata": {},
   "outputs": [],
   "source": [
    "%use dataframe\n",
    "%use lets-plot\n",
    "%use lets-plot-dataframe"
   ]
  },
  {
   "cell_type": "code",
   "execution_count": null,
   "id": "22fc84cf-1207-4bbd-b073-1a999970f6fa",
   "metadata": {},
   "outputs": [],
   "source": [
    "//If this does not exist run from cmdline: ./gradlew shadowjar\n",
    "// THis is old code - if the imports don't work\n",
    "@file:DependsOn(\"./build/libs/biokotlin-0.03-all.jar\")\n",
    "//@file:DependsOn(\"../build/libs/biokotlin-0.03-all.jar\")\n",
    "// @file:Repository(\"https://jcenter.bintray.com/\")\n",
    "// @file:DependsOn(\"org.biokotlin:biokotlin:0.03\")"
   ]
  },
  {
   "cell_type": "code",
   "execution_count": null,
   "id": "c6b8c975-0a1e-4788-8964-1cd53ecaea19",
   "metadata": {},
   "outputs": [],
   "source": []
  },
  {
   "cell_type": "code",
   "execution_count": null,
   "id": "7af7afce-5d4f-4103-9b0f-4cbf3aebceac",
   "metadata": {},
   "outputs": [],
   "source": [
    "val path = System.getProperty(\"user.dir\")\n",
    "println(\"Working Directory = $path\")"
   ]
  },
  {
   "cell_type": "code",
   "execution_count": null,
   "id": "67e15339-91c0-4be9-a1ae-add26c7bc9ba",
   "metadata": {},
   "outputs": [],
   "source": [
    "import biokotlin.genome.*"
   ]
  },
  {
   "cell_type": "code",
   "execution_count": null,
   "id": "352f758c-cd68-4c7a-b990-2ded8c778f1a",
   "metadata": {},
   "outputs": [],
   "source": [
    "val samDF = convertSAMToDataFrame(\"./build/resources/test/biokotlin/samBam/SbSam1.sam\")"
   ]
  },
  {
   "cell_type": "code",
   "execution_count": null,
   "id": "a1d14bc7-ed77-4d21-9dae-cc9f2d517b67",
   "metadata": {},
   "outputs": [],
   "source": [
    "samDF.mapped().filter{targetName == \"7\"}"
   ]
  },
  {
   "cell_type": "code",
   "execution_count": null,
   "id": "54b4f28d-a344-4ed6-8ab4-bd7c08d94654",
   "metadata": {},
   "outputs": [],
   "source": [
    "// val data = mapOf<String, Any>(\n",
    "//     \"depth\" to depths\n",
    "// )\n",
    "\n",
    "var p = lets_plot(samDF.toMap())\n",
    "p += geom_histogram(color=\"dark_green\", alpha=.3) {x=\"NM\"}\n",
    "p += ggtitle(\"Distribution of Mismatches\")\n",
    "p + ggsize(500, 250)"
   ]
  },
  {
   "cell_type": "code",
   "execution_count": null,
   "id": "14f46629-38d2-4498-a1c7-d7e72a95a17a",
   "metadata": {},
   "outputs": [],
   "source": [
    "val data = mapOf(\n",
    "    \"supp\" to listOf(\"OJ\", \"OJ\", \"OJ\", \"VC\", \"VC\", \"VC\"),\n",
    "    \"dose\" to listOf(0.5, 1.0, 2.0, 0.5, 1.0, 2.0),\n",
    "    \"length\" to listOf(13.23, 22.70, 26.06, 7.98, 16.77, 26.14),\n",
    "    \"len_min\" to listOf(11.83, 21.2, 24.50, 4.24, 15.26, 23.35),\n",
    "    \"len_max\" to listOf(15.63, 24.9, 27.11, 10.72, 19.28, 28.93)\n",
    ")"
   ]
  },
  {
   "cell_type": "code",
   "execution_count": null,
   "id": "3b7aebba-5814-4029-94e5-9e20aef85b4e",
   "metadata": {},
   "outputs": [],
   "source": [
    "val p = letsPlot(data) {x=\"dose\"; color=\"supp\"}"
   ]
  },
  {
   "cell_type": "code",
   "execution_count": null,
   "id": "e3bb16ff-27a1-400d-9f3f-0b54fb7549ce",
   "metadata": {},
   "outputs": [],
   "source": [
    "p + //geomErrorBar(width=.1) {ymin=\"len_min\"; ymax=\"len_max\"} +\n",
    "    geomLine {y=\"length\"} +\n",
    "    geomPoint {y=\"length\"}"
   ]
  },
  {
   "cell_type": "code",
   "execution_count": null,
   "id": "1c59f22e-ccfd-4bf7-981e-9ae89c094482",
   "metadata": {},
   "outputs": [],
   "source": [
    "p + geomLine {y=\"length\"} + geomPoint {y=\"length\"}"
   ]
  },
  {
   "cell_type": "code",
   "execution_count": null,
   "id": "07535391-ae7c-40a6-91af-e8e4f00e6c20",
   "metadata": {},
   "outputs": [],
   "source": [
    "val p = letsPlot(samDF.filter{targetName == \"7\" && targetStart > 63_000_000}.toMap()) \n",
    "    {x=\"targetStart\"; color=\"strand\"}"
   ]
  },
  {
   "cell_type": "code",
   "execution_count": null,
   "id": "e005aaff-c016-4ff4-9b30-e4b225790f88",
   "metadata": {},
   "outputs": [],
   "source": [
    "p + geomPoint {y=\"NM\"} + geom_errorbar(width=.1) {xmin=\"targetStart\"; xmax=\"targetEnd\"}"
   ]
  },
  {
   "cell_type": "code",
   "execution_count": null,
   "id": "e84a10fb-beaa-40a7-902f-84462171abc5",
   "metadata": {},
   "outputs": [],
   "source": [
    "val p = lets_plot(plotDF.toMap()) {x=\"leftStart\"; y=\"taxaIndex\"; color=\"pangenomeChr\"; fill=\"pangenomeChr\"}  +\n",
    "            ggsize(1500, 650) +\n",
    "            geom_segment(linetype=1, size=5){x=\"leftStart\"; xend=\"rightEnd\"; y=\"taxaIndex\"; yend=\"taxaIndex\"}"
   ]
  },
  {
   "cell_type": "code",
   "execution_count": null,
   "id": "69c6a80e-fc26-4e67-942c-f780167140ad",
   "metadata": {},
   "outputs": [],
   "source": [
    "p + geom_segment(linetype=1, size=5){x=\"targetStart\"; xend=\"targetEnd\"; y=\"NM\"; yend=\"NM\"}"
   ]
  },
  {
   "cell_type": "code",
   "execution_count": null,
   "id": "b920f569-0203-4f47-b2da-770f8421036b",
   "metadata": {},
   "outputs": [],
   "source": []
  }
 ],
 "metadata": {
  "kernelspec": {
   "display_name": "Kotlin",
   "language": "kotlin",
   "name": "kotlin"
  },
  "language_info": {
   "codemirror_mode": "text/x-kotlin",
   "file_extension": ".kt",
   "mimetype": "text/x-kotlin",
   "name": "kotlin",
   "nbconvert_exporter": "",
   "pygments_lexer": "kotlin",
   "version": "1.6.0-dev-3567"
  }
 },
 "nbformat": 4,
 "nbformat_minor": 5
}
