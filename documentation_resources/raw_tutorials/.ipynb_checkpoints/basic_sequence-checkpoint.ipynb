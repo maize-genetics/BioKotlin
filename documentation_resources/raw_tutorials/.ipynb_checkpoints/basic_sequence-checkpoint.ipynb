{
 "cells": [
  {
   "cell_type": "markdown",
   "id": "2174c02e-f7f5-4990-a9e2-ba071d206289",
   "metadata": {},
   "source": [
    "Sequences are series of characters that can represent RNA, DNA or chains of amino acids. Within BioKotlin, they are represented by the [seq](.seq) package. Below, we demonstrate the basics of creating and manipulating sequences."
   ]
  },
  {
   "cell_type": "markdown",
   "id": "13d9496e-a9bc-4d98-aa40-da75582ca46b",
   "metadata": {},
   "source": [
    "Start by importing the BioKotlin module, and the [seq](.seq) package."
   ]
  },
  {
   "cell_type": "code",
   "execution_count": 1,
   "id": "addeb69c-c497-4cfb-9be7-e67eaf64371e",
   "metadata": {},
   "outputs": [],
   "source": [
    "@file:Repository(\"https://jcenter.bintray.com/\")\n",
    "@file:DependsOn(\"org.biokotlin:biokotlin:0.03\")\n",
    "import biokotlin.seq.*"
   ]
  },
  {
   "cell_type": "markdown",
   "id": "5624741b-2100-4330-9a65-947c1626e6da",
   "metadata": {},
   "source": [
    "Next, create a nucleotide sequence and output its [complement](.seq.NucSeq.complement). DNA is inferred (instead of RNA) because of the \"T\" within the sequence."
   ]
  },
  {
   "cell_type": "code",
   "execution_count": 2,
   "id": "21f2c8a4-69c0-4414-a154-69fb59bd9791",
   "metadata": {},
   "outputs": [
    {
     "data": {
      "text/plain": [
       "CGTCTA"
      ]
     },
     "execution_count": 2,
     "metadata": {},
     "output_type": "execute_result"
    }
   ],
   "source": [
    "val dna = NucSeq(\"GCAGAT\")\n",
    "dna.complement()"
   ]
  },
  {
   "cell_type": "markdown",
   "id": "2ad67773-4775-4a27-9601-42110d9e01bf",
   "metadata": {},
   "source": [
    "Ensure that a sequence is a specific type when there is no thymine or uracil for inference with the [NUC](.seq.NUC) enum."
   ]
  },
  {
   "cell_type": "code",
   "execution_count": 3,
   "id": "8f8af4b8-c632-4b62-b8ff-f52ce4affb7d",
   "metadata": {},
   "outputs": [
    {
     "data": {
      "text/plain": [
       "UCGC"
      ]
     },
     "execution_count": 3,
     "metadata": {},
     "output_type": "execute_result"
    }
   ],
   "source": [
    "val rna = NucSeq(\"AGCG\", NUC.RNA)\n",
    "rna.complement() //Note that this outputs uracil because the sequence is RNA!"
   ]
  },
  {
   "cell_type": "markdown",
   "id": "36b8960d-d5ad-42b5-8403-52d0b68f672f",
   "metadata": {},
   "source": [
    "Now, [translate](.seq.NucSeq.translate) it to a protein sequence (will print both the codon table ID, defaulting to 1, and the translated sequence)."
   ]
  },
  {
   "cell_type": "code",
   "execution_count": 4,
   "id": "ec83c6d6-9ad6-4469-86c5-7c972c4798ce",
   "metadata": {},
   "outputs": [
    {
     "name": "stdout",
     "output_type": "stream",
     "text": [
      "1\n"
     ]
    },
    {
     "data": {
      "text/plain": [
       "AD"
      ]
     },
     "execution_count": 4,
     "metadata": {},
     "output_type": "execute_result"
    }
   ],
   "source": [
    "dna.translate()"
   ]
  },
  {
   "cell_type": "markdown",
   "id": "b437511d-b649-406c-97ca-063d16fc34ed",
   "metadata": {},
   "source": [
    "Now, [transcribe](.seq.NucSeq.transcribe) it to and RNA sequence"
   ]
  },
  {
   "cell_type": "code",
   "execution_count": 5,
   "id": "cee47c83-a2b9-4a6d-a2ee-868ec2602827",
   "metadata": {},
   "outputs": [
    {
     "data": {
      "text/plain": [
       "GCAGAU"
      ]
     },
     "execution_count": 5,
     "metadata": {},
     "output_type": "execute_result"
    }
   ],
   "source": [
    "dna.transcribe()"
   ]
  },
  {
   "cell_type": "markdown",
   "id": "8f242ed6-30a2-4a4f-8683-c5fe2c944c49",
   "metadata": {},
   "source": [
    "Create a [protein sequence](.seq.ProteinSeq), count its number of glysines, and print it in a [String template](https://kotlinlang.org/docs/basic-types.html#string-templates). Here, the [AminoAcid](.seq.AminoAcid) enum is used, which stores useful properties of the amino acids, such as their three letter encoding."
   ]
  },
  {
   "cell_type": "code",
   "execution_count": 6,
   "id": "f99ba3bf-4b30-4fc2-9ff1-a89c6756b58f",
   "metadata": {},
   "outputs": [
    {
     "name": "stdout",
     "output_type": "stream",
     "text": [
      "Gly count is 2\n"
     ]
    }
   ],
   "source": [
    "val protein = ProteinSeq(\"GCAGAT\")\n",
    "val gCount = protein.count(AminoAcid.G)\n",
    "println(\"${AminoAcid.G.name3letter} count is $gCount\")"
   ]
  },
  {
   "cell_type": "markdown",
   "id": "911ac220-1566-4e20-8fd0-a6c2cbe8f409",
   "metadata": {},
   "source": [
    "The + and * operators can be used to concatenate two sequences or the same sequence with itself multiple times, respectively."
   ]
  },
  {
   "cell_type": "code",
   "execution_count": 7,
   "id": "4ccb07ba-c50a-4961-825a-e05315ed46ec",
   "metadata": {},
   "outputs": [
    {
     "name": "stdout",
     "output_type": "stream",
     "text": [
      "A concatenated protein: GCAGATARSQRS\n",
      "A repeated DNA sequence: GCAGATGCAGATGCAGAT\n"
     ]
    }
   ],
   "source": [
    "val otherProtein = ProteinSeq(\"ARSQRS\")\n",
    "val concatenatedProtein = protein + otherProtein\n",
    "println(\"A concatenated protein: $concatenatedProtein\")\n",
    "println(\"A repeated DNA sequence: ${dna * 3}\")"
   ]
  },
  {
   "cell_type": "markdown",
   "id": "964e3a61-9f9e-4546-9f74-a65dfdf513ce",
   "metadata": {},
   "source": [
    "Finally, let's find the mass of our concatenated protein in daltons. The [brackets](.seq.ProteinSeq.get) return an [AminoAcid](.seq.AminoAcid) when a single integer is used as the index. Each [AminoAcid](.seq.AminoAcid) stores its mass in the ```weight``` property."
   ]
  },
  {
   "cell_type": "code",
   "execution_count": 8,
   "id": "259365b8-728a-4057-99aa-bb14b8917b20",
   "metadata": {},
   "outputs": [
    {
     "name": "stdout",
     "output_type": "stream",
     "text": [
      "The of GCAGATARSQRS is 1362.4218999999998 daltons\n"
     ]
    }
   ],
   "source": [
    "var mass = 0.0\n",
    "for (index in 0 until concatenatedProtein.size()) {\n",
    "    mass += concatenatedProtein[index].weight\n",
    "}\n",
    "println(\"The of $concatenatedProtein is $mass daltons\")"
   ]
  }
 ],
 "metadata": {
  "kernelspec": {
   "display_name": "Kotlin",
   "language": "kotlin",
   "name": "kotlin"
  },
  "language_info": {
   "codemirror_mode": "text/x-kotlin",
   "file_extension": ".kt",
   "mimetype": "text/x-kotlin",
   "name": "kotlin",
   "nbconvert_exporter": "",
   "pygments_lexer": "kotlin",
   "version": "1.7.20-dev-1299"
  }
 },
 "nbformat": 4,
 "nbformat_minor": 5
}
